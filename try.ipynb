{
 "cells": [
  {
   "cell_type": "code",
   "execution_count": 1,
   "id": "753649ea",
   "metadata": {},
   "outputs": [],
   "source": [
    "import mirascope"
   ]
  },
  {
   "cell_type": "code",
   "execution_count": 6,
   "id": "a60c73ec",
   "metadata": {},
   "outputs": [
    {
     "name": "stdout",
     "output_type": "stream",
     "text": [
      "city='New Delhi'\n"
     ]
    }
   ],
   "source": [
    "from mirascope import llm\n",
    "from pydantic import BaseModel\n",
    "\n",
    "\n",
    "class Res(BaseModel): \n",
    "    city: str\n",
    "\n",
    "\n",
    "@llm.call(\n",
    "    provider=\"openai\", \n",
    "    model=\"gpt-4o-mini\", \n",
    "    response_model=Res\n",
    ") \n",
    "def generate_answer(country_name: str) -> str:\n",
    "    return f\"Extract {country_name}'s capital city name from the text.\"\n",
    "\n",
    "\n",
    "book = generate_answer(\"India\")\n",
    "print(book)\n",
    "# Output: title='The Name of the Wind' author='Patrick Rothfuss'"
   ]
  },
  {
   "cell_type": "code",
   "execution_count": 16,
   "id": "c3cbc16f",
   "metadata": {},
   "outputs": [
    {
     "name": "stdout",
     "output_type": "stream",
     "text": [
      "CompletionUsage(completion_tokens=14, prompt_tokens=71, total_tokens=85, completion_tokens_details=CompletionTokensDetails(accepted_prediction_tokens=0, audio_tokens=0, reasoning_tokens=0, rejected_prediction_tokens=0), prompt_tokens_details=PromptTokensDetails(audio_tokens=0, cached_tokens=0))\n"
     ]
    }
   ],
   "source": [
    "print(book._response.usage)"
   ]
  },
  {
   "cell_type": "code",
   "execution_count": 19,
   "id": "659448d3",
   "metadata": {},
   "outputs": [
    {
     "data": {
      "text/plain": [
       "{'city': 'New Delhi'}"
      ]
     },
     "execution_count": 19,
     "metadata": {},
     "output_type": "execute_result"
    }
   ],
   "source": [
    "book.model_dump()"
   ]
  },
  {
   "cell_type": "code",
   "execution_count": 29,
   "id": "5e53432f",
   "metadata": {},
   "outputs": [
    {
     "data": {
      "text/plain": [
       "85"
      ]
     },
     "execution_count": 29,
     "metadata": {},
     "output_type": "execute_result"
    }
   ],
   "source": [
    "book._response.usage.total_tokens"
   ]
  },
  {
   "cell_type": "code",
   "execution_count": 30,
   "id": "f7e6bdcb",
   "metadata": {},
   "outputs": [
    {
     "data": {
      "text/plain": [
       "71"
      ]
     },
     "execution_count": 30,
     "metadata": {},
     "output_type": "execute_result"
    }
   ],
   "source": [
    "book._response.input_tokens"
   ]
  },
  {
   "cell_type": "code",
   "execution_count": 31,
   "id": "4815b513",
   "metadata": {},
   "outputs": [
    {
     "data": {
      "text/plain": [
       "14"
      ]
     },
     "execution_count": 31,
     "metadata": {},
     "output_type": "execute_result"
    }
   ],
   "source": [
    "book._response.output_tokens"
   ]
  },
  {
   "cell_type": "code",
   "execution_count": 1,
   "id": "0da1ded9",
   "metadata": {},
   "outputs": [],
   "source": [
    "# Notebook Cell for Testing Dynamic AI Engine\n",
    "\n",
    "from rich import print\n",
    "from rich.panel import Panel\n",
    "import json\n",
    "\n",
    "# Import the core engines we want to test directly\n",
    "from prompt_lockbox.core import project as core_project\n",
    "from prompt_lockbox.ai import documentation\n"
   ]
  },
  {
   "cell_type": "code",
   "execution_count": 3,
   "id": "b366db8a",
   "metadata": {},
   "outputs": [
    {
     "data": {
      "text/html": [
       "<pre style=\"white-space:pre;overflow-x:auto;line-height:normal;font-family:Menlo,'DejaVu Sans Mono',consolas,'Courier New',monospace\">--- 🚀 Testing Dynamic AI Engine with mirascope ---\n",
       "</pre>\n"
      ],
      "text/plain": [
       "--- 🚀 Testing Dynamic AI Engine with mirascope ---\n"
      ]
     },
     "metadata": {},
     "output_type": "display_data"
    },
    {
     "data": {
      "text/html": [
       "<pre style=\"white-space:pre;overflow-x:auto;line-height:normal;font-family:Menlo,'DejaVu Sans Mono',consolas,'Courier New',monospace\">✅ Found project root: <span style=\"color: #008080; text-decoration-color: #008080\">C:\\Users\\</span><span style=\"color: #008080; text-decoration-color: #008080; font-weight: bold\">91790</span><span style=\"color: #008080; text-decoration-color: #008080\">\\Desktop\\Projects\\prompt-lockbox</span>\n",
       "</pre>\n"
      ],
      "text/plain": [
       "✅ Found project root: \u001b[36mC:\\Users\\\u001b[0m\u001b[1;36m91790\u001b[0m\u001b[36m\\Desktop\\Projects\\prompt-lockbox\u001b[0m\n"
      ]
     },
     "metadata": {},
     "output_type": "display_data"
    },
    {
     "data": {
      "text/html": [
       "<pre style=\"white-space:pre;overflow-x:auto;line-height:normal;font-family:Menlo,'DejaVu Sans Mono',consolas,'Courier New',monospace\">\n",
       "--- Current AI Configuration ---\n",
       "</pre>\n"
      ],
      "text/plain": [
       "\n",
       "--- Current AI Configuration ---\n"
      ]
     },
     "metadata": {},
     "output_type": "display_data"
    },
    {
     "data": {
      "text/html": [
       "<pre style=\"white-space:pre;overflow-x:auto;line-height:normal;font-family:Menlo,'DejaVu Sans Mono',consolas,'Courier New',monospace\"><span style=\"font-weight: bold\">{</span><span style=\"color: #008000; text-decoration-color: #008000\">'provider'</span>: <span style=\"color: #008000; text-decoration-color: #008000\">'openai'</span>, <span style=\"color: #008000; text-decoration-color: #008000\">'model'</span>: <span style=\"color: #008000; text-decoration-color: #008000\">'gpt-4o-mini'</span><span style=\"font-weight: bold\">}</span>\n",
       "</pre>\n"
      ],
      "text/plain": [
       "\u001b[1m{\u001b[0m\u001b[32m'provider'\u001b[0m: \u001b[32m'openai'\u001b[0m, \u001b[32m'model'\u001b[0m: \u001b[32m'gpt-4o-mini'\u001b[0m\u001b[1m}\u001b[0m\n"
      ]
     },
     "metadata": {},
     "output_type": "display_data"
    },
    {
     "data": {
      "text/html": [
       "<pre style=\"white-space:pre;overflow-x:auto;line-height:normal;font-family:Menlo,'DejaVu Sans Mono',consolas,'Courier New',monospace\">Note: You can change this in your plb.toml file and re-run this cell.\n",
       "</pre>\n"
      ],
      "text/plain": [
       "Note: You can change this in your plb.toml file and re-run this cell.\n"
      ]
     },
     "metadata": {},
     "output_type": "display_data"
    },
    {
     "data": {
      "text/html": [
       "<pre style=\"white-space:pre;overflow-x:auto;line-height:normal;font-family:Menlo,'DejaVu Sans Mono',consolas,'Courier New',monospace\">\n",
       "--- 📞 Calling LLM via aircore<span style=\"color: #808000; text-decoration-color: #808000\">...</span> ---\n",
       "</pre>\n"
      ],
      "text/plain": [
       "\n",
       "--- 📞 Calling LLM via aircore\u001b[33m...\u001b[0m ---\n"
      ]
     },
     "metadata": {},
     "output_type": "display_data"
    },
    {
     "data": {
      "text/html": [
       "<pre style=\"white-space:pre;overflow-x:auto;line-height:normal;font-family:Menlo,'DejaVu Sans Mono',consolas,'Courier New',monospace\">✅ <span style=\"color: #008000; text-decoration-color: #008000; font-weight: bold\">SUCCESS:</span> AI call completed and returned structured data.\n",
       "</pre>\n"
      ],
      "text/plain": [
       "✅ \u001b[1;32mSUCCESS:\u001b[0m AI call completed and returned structured data.\n"
      ]
     },
     "metadata": {},
     "output_type": "display_data"
    },
    {
     "data": {
      "text/html": [
       "<pre style=\"white-space:pre;overflow-x:auto;line-height:normal;font-family:Menlo,'DejaVu Sans Mono',consolas,'Courier New',monospace\"><span style=\"color: #008000; text-decoration-color: #008000\">╭─────────────────────────────────────── </span><span style=\"color: #00ff00; text-decoration-color: #00ff00; font-weight: bold\">AI Generated Documentation (JSON)</span><span style=\"color: #008000; text-decoration-color: #008000\"> ───────────────────────────────────────╮</span>\n",
       "<span style=\"color: #008000; text-decoration-color: #008000\">│</span> {                                                                                                               <span style=\"color: #008000; text-decoration-color: #008000\">│</span>\n",
       "<span style=\"color: #008000; text-decoration-color: #008000\">│</span>   \"description\": \"Extracts key sentiment from user reviews and summarizes the feedback.\",                       <span style=\"color: #008000; text-decoration-color: #008000\">│</span>\n",
       "<span style=\"color: #008000; text-decoration-color: #008000\">│</span>   \"tags\": [                                                                                                     <span style=\"color: #008000; text-decoration-color: #008000\">│</span>\n",
       "<span style=\"color: #008000; text-decoration-color: #008000\">│</span>     \"sentiment analysis\",                                                                                       <span style=\"color: #008000; text-decoration-color: #008000\">│</span>\n",
       "<span style=\"color: #008000; text-decoration-color: #008000\">│</span>     \"user review\",                                                                                              <span style=\"color: #008000; text-decoration-color: #008000\">│</span>\n",
       "<span style=\"color: #008000; text-decoration-color: #008000\">│</span>     \"feedback summary\",                                                                                         <span style=\"color: #008000; text-decoration-color: #008000\">│</span>\n",
       "<span style=\"color: #008000; text-decoration-color: #008000\">│</span>     \"text analysis\",                                                                                            <span style=\"color: #008000; text-decoration-color: #008000\">│</span>\n",
       "<span style=\"color: #008000; text-decoration-color: #008000\">│</span>     \"natural language processing\"                                                                               <span style=\"color: #008000; text-decoration-color: #008000\">│</span>\n",
       "<span style=\"color: #008000; text-decoration-color: #008000\">│</span>   ]                                                                                                             <span style=\"color: #008000; text-decoration-color: #008000\">│</span>\n",
       "<span style=\"color: #008000; text-decoration-color: #008000\">│</span> }                                                                                                               <span style=\"color: #008000; text-decoration-color: #008000\">│</span>\n",
       "<span style=\"color: #008000; text-decoration-color: #008000\">╰─────────────────────────────────────────────────────────────────────────────────────────────────────────────────╯</span>\n",
       "</pre>\n"
      ],
      "text/plain": [
       "\u001b[32m╭─\u001b[0m\u001b[32m──────────────────────────────────────\u001b[0m\u001b[32m \u001b[0m\u001b[1;92mAI Generated Documentation (JSON)\u001b[0m\u001b[32m \u001b[0m\u001b[32m──────────────────────────────────────\u001b[0m\u001b[32m─╮\u001b[0m\n",
       "\u001b[32m│\u001b[0m {                                                                                                               \u001b[32m│\u001b[0m\n",
       "\u001b[32m│\u001b[0m   \"description\": \"Extracts key sentiment from user reviews and summarizes the feedback.\",                       \u001b[32m│\u001b[0m\n",
       "\u001b[32m│\u001b[0m   \"tags\": [                                                                                                     \u001b[32m│\u001b[0m\n",
       "\u001b[32m│\u001b[0m     \"sentiment analysis\",                                                                                       \u001b[32m│\u001b[0m\n",
       "\u001b[32m│\u001b[0m     \"user review\",                                                                                              \u001b[32m│\u001b[0m\n",
       "\u001b[32m│\u001b[0m     \"feedback summary\",                                                                                         \u001b[32m│\u001b[0m\n",
       "\u001b[32m│\u001b[0m     \"text analysis\",                                                                                            \u001b[32m│\u001b[0m\n",
       "\u001b[32m│\u001b[0m     \"natural language processing\"                                                                               \u001b[32m│\u001b[0m\n",
       "\u001b[32m│\u001b[0m   ]                                                                                                             \u001b[32m│\u001b[0m\n",
       "\u001b[32m│\u001b[0m }                                                                                                               \u001b[32m│\u001b[0m\n",
       "\u001b[32m╰─────────────────────────────────────────────────────────────────────────────────────────────────────────────────╯\u001b[0m\n"
      ]
     },
     "metadata": {},
     "output_type": "display_data"
    }
   ],
   "source": [
    "print(\"--- 🚀 Testing Dynamic AI Engine with mirascope ---\")\n",
    "\n",
    "# 1. Manually find the project root, just like the SDK would.\n",
    "project_root = core_project.get_project_root()\n",
    "if not project_root:\n",
    "    print(\"❌ [bold red]FAILURE:[/bold red] Could not find project root. Make sure plb.toml exists.\")\n",
    "else:\n",
    "    print(f\"✅ Found project root: [cyan]{project_root}[/cyan]\")\n",
    "\n",
    "    # 2. Manually get the AI configuration from the plb.toml file.\n",
    "    # This simulates what `project.get_ai_config()` will do.\n",
    "    config = core_project.get_config(project_root)\n",
    "    ai_config = config.get(\"ai\", {})\n",
    "    # Apply defaults\n",
    "    ai_config.setdefault(\"provider\", \"openai\")\n",
    "    ai_config.setdefault(\"model\", \"gpt-4o-mini\")\n",
    "    \n",
    "    print(\"\\n--- Current AI Configuration ---\")\n",
    "    print(ai_config)\n",
    "    print(\"Note: You can change this in your plb.toml file and re-run this cell.\")\n",
    "\n",
    "    # 3. Define a sample prompt template to test with.\n",
    "    sample_template = \"\"\"\n",
    "    Given the following user review, extract the key sentiment (Positive, Negative, or Neutral)\n",
    "    and summarize the main point of the feedback into a single sentence.\n",
    "\n",
    "    Review:\n",
    "    ${user_review}\n",
    "    \"\"\"\n",
    "    \n",
    "    print(\"\\n--- 📞 Calling LLM via aircore... ---\")\n",
    "    # try:\n",
    "    # 4. Call the main function from our AI engine, passing the config.\n",
    "    doc = documentation.get_documentation(\n",
    "        prompt_template=sample_template,\n",
    "        project_root=project_root,\n",
    "        ai_config=ai_config  # Pass the config we just loaded\n",
    "    )\n",
    "    \n",
    "    print(\"✅ [bold green]SUCCESS:[/bold green] AI call completed and returned structured data.\")\n",
    "    \n",
    "    # # 5. Print the results in a readable format.\n",
    "    output_panel = Panel(\n",
    "        json.dumps(doc, indent=2),\n",
    "        title=\"[bold bright_green]AI Generated Documentation (JSON)[/bold bright_green]\",\n",
    "        border_style=\"green\"\n",
    "    )\n",
    "    print(output_panel)\n",
    "    # print(doc)\n",
    "\n",
    "    # # except Exception as e:\n",
    "    #     print(f\"❌ [bold red]FAILURE:[/bold red] An error occurred during the AI call.\")\n",
    "    #     print(e)"
   ]
  },
  {
   "cell_type": "markdown",
   "id": "004efbcc",
   "metadata": {},
   "source": [
    "---"
   ]
  },
  {
   "cell_type": "code",
   "execution_count": 2,
   "id": "51bf6ea6",
   "metadata": {},
   "outputs": [
    {
     "data": {
      "text/html": [
       "<pre style=\"white-space:pre;overflow-x:auto;line-height:normal;font-family:Menlo,'DejaVu Sans Mono',consolas,'Courier New',monospace\">--- 🚀 Setting up for AI Feature Test ---\n",
       "</pre>\n"
      ],
      "text/plain": [
       "--- 🚀 Setting up for AI Feature Test ---\n"
      ]
     },
     "metadata": {},
     "output_type": "display_data"
    },
    {
     "data": {
      "text/html": [
       "<pre style=\"white-space:pre;overflow-x:auto;line-height:normal;font-family:Menlo,'DejaVu Sans Mono',consolas,'Courier New',monospace\">✅ Project loaded successfully from: <span style=\"color: #008080; text-decoration-color: #008080\">C:\\Users\\</span><span style=\"color: #008080; text-decoration-color: #008080; font-weight: bold\">91790</span><span style=\"color: #008080; text-decoration-color: #008080\">\\Desktop\\Projects\\prompt-lockbox</span>\n",
       "</pre>\n"
      ],
      "text/plain": [
       "✅ Project loaded successfully from: \u001b[36mC:\\Users\\\u001b[0m\u001b[1;36m91790\u001b[0m\u001b[36m\\Desktop\\Projects\\prompt-lockbox\u001b[0m\n"
      ]
     },
     "metadata": {},
     "output_type": "display_data"
    },
    {
     "data": {
      "text/html": [
       "<pre style=\"white-space:pre;overflow-x:auto;line-height:normal;font-family:Menlo,'DejaVu Sans Mono',consolas,'Courier New',monospace\">\n",
       "--- Current AI Configuration <span style=\"font-weight: bold\">(</span>from plb.toml<span style=\"font-weight: bold\">)</span> ---\n",
       "</pre>\n"
      ],
      "text/plain": [
       "\n",
       "--- Current AI Configuration \u001b[1m(\u001b[0mfrom plb.toml\u001b[1m)\u001b[0m ---\n"
      ]
     },
     "metadata": {},
     "output_type": "display_data"
    },
    {
     "data": {
      "text/html": [
       "<pre style=\"white-space:pre;overflow-x:auto;line-height:normal;font-family:Menlo,'DejaVu Sans Mono',consolas,'Courier New',monospace\"><span style=\"font-weight: bold\">{</span><span style=\"color: #008000; text-decoration-color: #008000\">'provider'</span>: <span style=\"color: #008000; text-decoration-color: #008000\">'openai'</span>, <span style=\"color: #008000; text-decoration-color: #008000\">'model'</span>: <span style=\"color: #008000; text-decoration-color: #008000\">'gpt-4o-mini'</span><span style=\"font-weight: bold\">}</span>\n",
       "</pre>\n"
      ],
      "text/plain": [
       "\u001b[1m{\u001b[0m\u001b[32m'provider'\u001b[0m: \u001b[32m'openai'\u001b[0m, \u001b[32m'model'\u001b[0m: \u001b[32m'gpt-4o-mini'\u001b[0m\u001b[1m}\u001b[0m\n"
      ]
     },
     "metadata": {},
     "output_type": "display_data"
    },
    {
     "data": {
      "text/html": [
       "<pre style=\"white-space:pre;overflow-x:auto;line-height:normal;font-family:Menlo,'DejaVu Sans Mono',consolas,'Courier New',monospace\">\n",
       "--- Initial State of <span style=\"color: #008000; text-decoration-color: #008000\">'tex'</span> ---\n",
       "</pre>\n"
      ],
      "text/plain": [
       "\n",
       "--- Initial State of \u001b[32m'tex'\u001b[0m ---\n"
      ]
     },
     "metadata": {},
     "output_type": "display_data"
    },
    {
     "data": {
      "text/html": [
       "<pre style=\"white-space:pre;overflow-x:auto;line-height:normal;font-family:Menlo,'DejaVu Sans Mono',consolas,'Courier New',monospace\"><span style=\"color: #808000; text-decoration-color: #808000\">╭──────────────────────────────────────────── Before AI Modification ─────────────────────────────────────────────╮</span>\n",
       "<span style=\"color: #808000; text-decoration-color: #808000\">│</span> id: prm_bb64c421743643afad18020bc8f22e55                                                                        <span style=\"color: #808000; text-decoration-color: #808000\">│</span>\n",
       "<span style=\"color: #808000; text-decoration-color: #808000\">│</span> name: tex                                                                                                       <span style=\"color: #808000; text-decoration-color: #808000\">│</span>\n",
       "<span style=\"color: #808000; text-decoration-color: #808000\">│</span> version: 1.0.0                                                                                                  <span style=\"color: #808000; text-decoration-color: #808000\">│</span>\n",
       "<span style=\"color: #808000; text-decoration-color: #808000\">│</span> description: ''                                                                                                 <span style=\"color: #808000; text-decoration-color: #808000\">│</span>\n",
       "<span style=\"color: #808000; text-decoration-color: #808000\">│</span> namespace: []                                                                                                   <span style=\"color: #808000; text-decoration-color: #808000\">│</span>\n",
       "<span style=\"color: #808000; text-decoration-color: #808000\">│</span> tags: []                                                                                                        <span style=\"color: #808000; text-decoration-color: #808000\">│</span>\n",
       "<span style=\"color: #808000; text-decoration-color: #808000\">│</span> status: Draft                                                                                                   <span style=\"color: #808000; text-decoration-color: #808000\">│</span>\n",
       "<span style=\"color: #808000; text-decoration-color: #808000\">│</span> author: ananya868 &lt;ananya8154@gmail.com&gt;                                                                        <span style=\"color: #808000; text-decoration-color: #808000\">│</span>\n",
       "<span style=\"color: #808000; text-decoration-color: #808000\">│</span> last_update: '2025-06-13T10:54:08.150493+00:00'                                                                 <span style=\"color: #808000; text-decoration-color: #808000\">│</span>\n",
       "<span style=\"color: #808000; text-decoration-color: #808000\">│</span> intended_model: ''                                                                                              <span style=\"color: #808000; text-decoration-color: #808000\">│</span>\n",
       "<span style=\"color: #808000; text-decoration-color: #808000\">│</span> model_parameters:                                                                                               <span style=\"color: #808000; text-decoration-color: #808000\">│</span>\n",
       "<span style=\"color: #808000; text-decoration-color: #808000\">│</span>   temperature: 0.7                                                                                              <span style=\"color: #808000; text-decoration-color: #808000\">│</span>\n",
       "<span style=\"color: #808000; text-decoration-color: #808000\">│</span> linked_prompts: []                                                                                              <span style=\"color: #808000; text-decoration-color: #808000\">│</span>\n",
       "<span style=\"color: #808000; text-decoration-color: #808000\">│</span> notes: null                                                                                                     <span style=\"color: #808000; text-decoration-color: #808000\">│</span>\n",
       "<span style=\"color: #808000; text-decoration-color: #808000\">│</span> default_inputs:                                                                                                 <span style=\"color: #808000; text-decoration-color: #808000\">│</span>\n",
       "<span style=\"color: #808000; text-decoration-color: #808000\">│</span>   user_input: A sample value for testing.                                                                       <span style=\"color: #808000; text-decoration-color: #808000\">│</span>\n",
       "<span style=\"color: #808000; text-decoration-color: #808000\">│</span> template: '  You are a helpful assistant.                                                                       <span style=\"color: #808000; text-decoration-color: #808000\">│</span>\n",
       "<span style=\"color: #808000; text-decoration-color: #808000\">│</span>                                                                                                                 <span style=\"color: #808000; text-decoration-color: #808000\">│</span>\n",
       "<span style=\"color: #808000; text-decoration-color: #808000\">│</span>   Your task is to convert the given text into LaTeX format. The input will be a plain                           <span style=\"color: #808000; text-decoration-color: #808000\">│</span>\n",
       "<span style=\"color: #808000; text-decoration-color: #808000\">│</span>   text description, and you should output the corresponding LaTeX code.                                         <span style=\"color: #808000; text-decoration-color: #808000\">│</span>\n",
       "<span style=\"color: #808000; text-decoration-color: #808000\">│</span>                                                                                                                 <span style=\"color: #808000; text-decoration-color: #808000\">│</span>\n",
       "<span style=\"color: #808000; text-decoration-color: #808000\">│</span>   Input: {{user_input}} Output: '                                                                               <span style=\"color: #808000; text-decoration-color: #808000\">│</span>\n",
       "<span style=\"color: #808000; text-decoration-color: #808000\">│</span>                                                                                                                 <span style=\"color: #808000; text-decoration-color: #808000\">│</span>\n",
       "<span style=\"color: #808000; text-decoration-color: #808000\">╰─────────────────────────────────────────────────────────────────────────────────────────────────────────────────╯</span>\n",
       "</pre>\n"
      ],
      "text/plain": [
       "\u001b[33m╭─\u001b[0m\u001b[33m───────────────────────────────────────────\u001b[0m\u001b[33m Before AI Modification \u001b[0m\u001b[33m────────────────────────────────────────────\u001b[0m\u001b[33m─╮\u001b[0m\n",
       "\u001b[33m│\u001b[0m id: prm_bb64c421743643afad18020bc8f22e55                                                                        \u001b[33m│\u001b[0m\n",
       "\u001b[33m│\u001b[0m name: tex                                                                                                       \u001b[33m│\u001b[0m\n",
       "\u001b[33m│\u001b[0m version: 1.0.0                                                                                                  \u001b[33m│\u001b[0m\n",
       "\u001b[33m│\u001b[0m description: ''                                                                                                 \u001b[33m│\u001b[0m\n",
       "\u001b[33m│\u001b[0m namespace: []                                                                                                   \u001b[33m│\u001b[0m\n",
       "\u001b[33m│\u001b[0m tags: []                                                                                                        \u001b[33m│\u001b[0m\n",
       "\u001b[33m│\u001b[0m status: Draft                                                                                                   \u001b[33m│\u001b[0m\n",
       "\u001b[33m│\u001b[0m author: ananya868 <ananya8154@gmail.com>                                                                        \u001b[33m│\u001b[0m\n",
       "\u001b[33m│\u001b[0m last_update: '2025-06-13T10:54:08.150493+00:00'                                                                 \u001b[33m│\u001b[0m\n",
       "\u001b[33m│\u001b[0m intended_model: ''                                                                                              \u001b[33m│\u001b[0m\n",
       "\u001b[33m│\u001b[0m model_parameters:                                                                                               \u001b[33m│\u001b[0m\n",
       "\u001b[33m│\u001b[0m   temperature: 0.7                                                                                              \u001b[33m│\u001b[0m\n",
       "\u001b[33m│\u001b[0m linked_prompts: []                                                                                              \u001b[33m│\u001b[0m\n",
       "\u001b[33m│\u001b[0m notes: null                                                                                                     \u001b[33m│\u001b[0m\n",
       "\u001b[33m│\u001b[0m default_inputs:                                                                                                 \u001b[33m│\u001b[0m\n",
       "\u001b[33m│\u001b[0m   user_input: A sample value for testing.                                                                       \u001b[33m│\u001b[0m\n",
       "\u001b[33m│\u001b[0m template: '  You are a helpful assistant.                                                                       \u001b[33m│\u001b[0m\n",
       "\u001b[33m│\u001b[0m                                                                                                                 \u001b[33m│\u001b[0m\n",
       "\u001b[33m│\u001b[0m   Your task is to convert the given text into LaTeX format. The input will be a plain                           \u001b[33m│\u001b[0m\n",
       "\u001b[33m│\u001b[0m   text description, and you should output the corresponding LaTeX code.                                         \u001b[33m│\u001b[0m\n",
       "\u001b[33m│\u001b[0m                                                                                                                 \u001b[33m│\u001b[0m\n",
       "\u001b[33m│\u001b[0m   Input: {{user_input}} Output: '                                                                               \u001b[33m│\u001b[0m\n",
       "\u001b[33m│\u001b[0m                                                                                                                 \u001b[33m│\u001b[0m\n",
       "\u001b[33m╰─────────────────────────────────────────────────────────────────────────────────────────────────────────────────╯\u001b[0m\n"
      ]
     },
     "metadata": {},
     "output_type": "display_data"
    }
   ],
   "source": [
    "# Cell 1: Setup and Initial State\n",
    "\n",
    "from prompt_lockbox import Project\n",
    "from rich import print\n",
    "from rich.panel import Panel\n",
    "import yaml\n",
    "\n",
    "print(\"--- 🚀 Setting up for AI Feature Test ---\")\n",
    "\n",
    "try:\n",
    "    project = Project()\n",
    "    print(f\"✅ Project loaded successfully from: [cyan]{project.root}[/cyan]\")\n",
    "\n",
    "    # Get the AI config and display it\n",
    "    ai_config = project.get_ai_config()\n",
    "    print(\"\\n--- Current AI Configuration (from plb.toml) ---\")\n",
    "    print(ai_config)\n",
    "\n",
    "    # !! IMPORTANT: Change this to a real prompt name in your project !!\n",
    "    TEST_PROMPT_NAME = \"tex\"\n",
    "    \n",
    "    test_prompt = project.get_prompt(TEST_PROMPT_NAME)\n",
    "\n",
    "    if test_prompt:\n",
    "        print(f\"\\n--- Initial State of '{TEST_PROMPT_NAME}' ---\")\n",
    "        initial_content = yaml.dump(test_prompt.data, sort_keys=False, indent=2)\n",
    "        print(Panel(initial_content, title=\"Before AI Modification\", border_style=\"yellow\"))\n",
    "    else:\n",
    "        print(f\"❌ [bold red]Error:[/bold red] Could not find prompt '{TEST_PROMPT_NAME}'. Please create it first.\")\n",
    "        test_prompt = None # Ensure it's None so other cells don't run\n",
    "\n",
    "except FileNotFoundError as e:\n",
    "    print(f\"❌ [bold red]FAILURE:[/bold red] {e}\")"
   ]
  },
  {
   "cell_type": "code",
   "execution_count": 3,
   "id": "2cec3795",
   "metadata": {},
   "outputs": [
    {
     "data": {
      "text/html": [
       "<pre style=\"white-space:pre;overflow-x:auto;line-height:normal;font-family:Menlo,'DejaVu Sans Mono',consolas,'Courier New',monospace\">\n",
       "--- 🚀 Running <span style=\"color: #800080; text-decoration-color: #800080; font-weight: bold\">prompt.document</span><span style=\"font-weight: bold\">()</span> ---\n",
       "</pre>\n"
      ],
      "text/plain": [
       "\n",
       "--- 🚀 Running \u001b[1;35mprompt.document\u001b[0m\u001b[1m(\u001b[0m\u001b[1m)\u001b[0m ---\n"
      ]
     },
     "metadata": {},
     "output_type": "display_data"
    },
    {
     "name": "stdout",
     "output_type": "stream",
     "text": [
      "📄 Analyzing 'tex' to generate documentation...\n",
      "✅ Success! Description and tags updated.\n"
     ]
    },
    {
     "data": {
      "text/html": [
       "<pre style=\"white-space:pre;overflow-x:auto;line-height:normal;font-family:Menlo,'DejaVu Sans Mono',consolas,'Courier New',monospace\">\n",
       "<span style=\"font-weight: bold\">Note:</span> The success message above came from the SDK method itself.\n",
       "</pre>\n"
      ],
      "text/plain": [
       "\n",
       "\u001b[1mNote:\u001b[0m The success message above came from the SDK method itself.\n"
      ]
     },
     "metadata": {},
     "output_type": "display_data"
    }
   ],
   "source": [
    "# Cell 2: Run the AI `document()` Method\n",
    "\n",
    "if 'test_prompt' in locals() and test_prompt:\n",
    "    print(\"\\n--- 🚀 Running prompt.document() ---\")\n",
    "    \n",
    "    try:\n",
    "        # This single line does everything: calls the AI, updates the object, and saves the file.\n",
    "        test_prompt.document()\n",
    "        print(\"\\n[bold]Note:[/bold] The success message above came from the SDK method itself.\")\n",
    "        \n",
    "    except Exception as e:\n",
    "        print(f\"❌ [bold red]FAILURE:[/bold red] An error occurred during the .document() call.\")\n",
    "        import traceback\n",
    "        traceback.print_exc()\n",
    "        \n",
    "else:\n",
    "    print(\"Skipping cell because test_prompt was not loaded.\")"
   ]
  },
  {
   "cell_type": "code",
   "execution_count": 4,
   "id": "a953952b",
   "metadata": {},
   "outputs": [
    {
     "data": {
      "text/html": [
       "<pre style=\"white-space:pre;overflow-x:auto;line-height:normal;font-family:Menlo,'DejaVu Sans Mono',consolas,'Courier New',monospace\">\n",
       "--- 🚀 Verifying Changes ---\n",
       "</pre>\n"
      ],
      "text/plain": [
       "\n",
       "--- 🚀 Verifying Changes ---\n"
      ]
     },
     "metadata": {},
     "output_type": "display_data"
    },
    {
     "data": {
      "text/html": [
       "<pre style=\"white-space:pre;overflow-x:auto;line-height:normal;font-family:Menlo,'DejaVu Sans Mono',consolas,'Courier New',monospace\">Reloading prompt from file to confirm changes<span style=\"color: #808000; text-decoration-color: #808000\">...</span>\n",
       "</pre>\n"
      ],
      "text/plain": [
       "Reloading prompt from file to confirm changes\u001b[33m...\u001b[0m\n"
      ]
     },
     "metadata": {},
     "output_type": "display_data"
    },
    {
     "data": {
      "text/html": [
       "<pre style=\"white-space:pre;overflow-x:auto;line-height:normal;font-family:Menlo,'DejaVu Sans Mono',consolas,'Courier New',monospace\">\n",
       "--- Final State of <span style=\"color: #008000; text-decoration-color: #008000\">'tex'</span> ---\n",
       "</pre>\n"
      ],
      "text/plain": [
       "\n",
       "--- Final State of \u001b[32m'tex'\u001b[0m ---\n"
      ]
     },
     "metadata": {},
     "output_type": "display_data"
    },
    {
     "data": {
      "text/html": [
       "<pre style=\"white-space:pre;overflow-x:auto;line-height:normal;font-family:Menlo,'DejaVu Sans Mono',consolas,'Courier New',monospace\"><span style=\"color: #008000; text-decoration-color: #008000\">╭───────────────────────────────────────────── After AI Modification ─────────────────────────────────────────────╮</span>\n",
       "<span style=\"color: #008000; text-decoration-color: #008000\">│</span> id: prm_bb64c421743643afad18020bc8f22e55                                                                        <span style=\"color: #008000; text-decoration-color: #008000\">│</span>\n",
       "<span style=\"color: #008000; text-decoration-color: #008000\">│</span> name: tex                                                                                                       <span style=\"color: #008000; text-decoration-color: #008000\">│</span>\n",
       "<span style=\"color: #008000; text-decoration-color: #008000\">│</span> version: 1.0.0                                                                                                  <span style=\"color: #008000; text-decoration-color: #008000\">│</span>\n",
       "<span style=\"color: #008000; text-decoration-color: #008000\">│</span> description: Converts plain text descriptions into LaTeX format.                                                <span style=\"color: #008000; text-decoration-color: #008000\">│</span>\n",
       "<span style=\"color: #008000; text-decoration-color: #008000\">│</span> namespace: []                                                                                                   <span style=\"color: #008000; text-decoration-color: #008000\">│</span>\n",
       "<span style=\"color: #008000; text-decoration-color: #008000\">│</span> tags:                                                                                                           <span style=\"color: #008000; text-decoration-color: #008000\">│</span>\n",
       "<span style=\"color: #008000; text-decoration-color: #008000\">│</span> - latex                                                                                                         <span style=\"color: #008000; text-decoration-color: #008000\">│</span>\n",
       "<span style=\"color: #008000; text-decoration-color: #008000\">│</span> - text conversion                                                                                               <span style=\"color: #008000; text-decoration-color: #008000\">│</span>\n",
       "<span style=\"color: #008000; text-decoration-color: #008000\">│</span> - formatting                                                                                                    <span style=\"color: #008000; text-decoration-color: #008000\">│</span>\n",
       "<span style=\"color: #008000; text-decoration-color: #008000\">│</span> - document preparation                                                                                          <span style=\"color: #008000; text-decoration-color: #008000\">│</span>\n",
       "<span style=\"color: #008000; text-decoration-color: #008000\">│</span> status: Draft                                                                                                   <span style=\"color: #008000; text-decoration-color: #008000\">│</span>\n",
       "<span style=\"color: #008000; text-decoration-color: #008000\">│</span> author: ananya868 &lt;ananya8154@gmail.com&gt;                                                                        <span style=\"color: #008000; text-decoration-color: #008000\">│</span>\n",
       "<span style=\"color: #008000; text-decoration-color: #008000\">│</span> last_update: '2025-06-20T15:40:12.090407+00:00'                                                                 <span style=\"color: #008000; text-decoration-color: #008000\">│</span>\n",
       "<span style=\"color: #008000; text-decoration-color: #008000\">│</span> intended_model: ''                                                                                              <span style=\"color: #008000; text-decoration-color: #008000\">│</span>\n",
       "<span style=\"color: #008000; text-decoration-color: #008000\">│</span> model_parameters:                                                                                               <span style=\"color: #008000; text-decoration-color: #008000\">│</span>\n",
       "<span style=\"color: #008000; text-decoration-color: #008000\">│</span>   temperature: 0.7                                                                                              <span style=\"color: #008000; text-decoration-color: #008000\">│</span>\n",
       "<span style=\"color: #008000; text-decoration-color: #008000\">│</span> linked_prompts: []                                                                                              <span style=\"color: #008000; text-decoration-color: #008000\">│</span>\n",
       "<span style=\"color: #008000; text-decoration-color: #008000\">│</span> notes: null                                                                                                     <span style=\"color: #008000; text-decoration-color: #008000\">│</span>\n",
       "<span style=\"color: #008000; text-decoration-color: #008000\">│</span> default_inputs:                                                                                                 <span style=\"color: #008000; text-decoration-color: #008000\">│</span>\n",
       "<span style=\"color: #008000; text-decoration-color: #008000\">│</span>   user_input: A sample value for testing.                                                                       <span style=\"color: #008000; text-decoration-color: #008000\">│</span>\n",
       "<span style=\"color: #008000; text-decoration-color: #008000\">│</span> template: '  You are a helpful assistant.                                                                       <span style=\"color: #008000; text-decoration-color: #008000\">│</span>\n",
       "<span style=\"color: #008000; text-decoration-color: #008000\">│</span>                                                                                                                 <span style=\"color: #008000; text-decoration-color: #008000\">│</span>\n",
       "<span style=\"color: #008000; text-decoration-color: #008000\">│</span>   Your task is to convert the given text into LaTeX format. The input will be a plain                           <span style=\"color: #008000; text-decoration-color: #008000\">│</span>\n",
       "<span style=\"color: #008000; text-decoration-color: #008000\">│</span>   text description, and you should output the corresponding LaTeX code.                                         <span style=\"color: #008000; text-decoration-color: #008000\">│</span>\n",
       "<span style=\"color: #008000; text-decoration-color: #008000\">│</span>                                                                                                                 <span style=\"color: #008000; text-decoration-color: #008000\">│</span>\n",
       "<span style=\"color: #008000; text-decoration-color: #008000\">│</span>   Input: {{user_input}} Output: '                                                                               <span style=\"color: #008000; text-decoration-color: #008000\">│</span>\n",
       "<span style=\"color: #008000; text-decoration-color: #008000\">│</span>                                                                                                                 <span style=\"color: #008000; text-decoration-color: #008000\">│</span>\n",
       "<span style=\"color: #008000; text-decoration-color: #008000\">╰─────────────────────────────────────────────────────────────────────────────────────────────────────────────────╯</span>\n",
       "</pre>\n"
      ],
      "text/plain": [
       "\u001b[32m╭─\u001b[0m\u001b[32m────────────────────────────────────────────\u001b[0m\u001b[32m After AI Modification \u001b[0m\u001b[32m────────────────────────────────────────────\u001b[0m\u001b[32m─╮\u001b[0m\n",
       "\u001b[32m│\u001b[0m id: prm_bb64c421743643afad18020bc8f22e55                                                                        \u001b[32m│\u001b[0m\n",
       "\u001b[32m│\u001b[0m name: tex                                                                                                       \u001b[32m│\u001b[0m\n",
       "\u001b[32m│\u001b[0m version: 1.0.0                                                                                                  \u001b[32m│\u001b[0m\n",
       "\u001b[32m│\u001b[0m description: Converts plain text descriptions into LaTeX format.                                                \u001b[32m│\u001b[0m\n",
       "\u001b[32m│\u001b[0m namespace: []                                                                                                   \u001b[32m│\u001b[0m\n",
       "\u001b[32m│\u001b[0m tags:                                                                                                           \u001b[32m│\u001b[0m\n",
       "\u001b[32m│\u001b[0m - latex                                                                                                         \u001b[32m│\u001b[0m\n",
       "\u001b[32m│\u001b[0m - text conversion                                                                                               \u001b[32m│\u001b[0m\n",
       "\u001b[32m│\u001b[0m - formatting                                                                                                    \u001b[32m│\u001b[0m\n",
       "\u001b[32m│\u001b[0m - document preparation                                                                                          \u001b[32m│\u001b[0m\n",
       "\u001b[32m│\u001b[0m status: Draft                                                                                                   \u001b[32m│\u001b[0m\n",
       "\u001b[32m│\u001b[0m author: ananya868 <ananya8154@gmail.com>                                                                        \u001b[32m│\u001b[0m\n",
       "\u001b[32m│\u001b[0m last_update: '2025-06-20T15:40:12.090407+00:00'                                                                 \u001b[32m│\u001b[0m\n",
       "\u001b[32m│\u001b[0m intended_model: ''                                                                                              \u001b[32m│\u001b[0m\n",
       "\u001b[32m│\u001b[0m model_parameters:                                                                                               \u001b[32m│\u001b[0m\n",
       "\u001b[32m│\u001b[0m   temperature: 0.7                                                                                              \u001b[32m│\u001b[0m\n",
       "\u001b[32m│\u001b[0m linked_prompts: []                                                                                              \u001b[32m│\u001b[0m\n",
       "\u001b[32m│\u001b[0m notes: null                                                                                                     \u001b[32m│\u001b[0m\n",
       "\u001b[32m│\u001b[0m default_inputs:                                                                                                 \u001b[32m│\u001b[0m\n",
       "\u001b[32m│\u001b[0m   user_input: A sample value for testing.                                                                       \u001b[32m│\u001b[0m\n",
       "\u001b[32m│\u001b[0m template: '  You are a helpful assistant.                                                                       \u001b[32m│\u001b[0m\n",
       "\u001b[32m│\u001b[0m                                                                                                                 \u001b[32m│\u001b[0m\n",
       "\u001b[32m│\u001b[0m   Your task is to convert the given text into LaTeX format. The input will be a plain                           \u001b[32m│\u001b[0m\n",
       "\u001b[32m│\u001b[0m   text description, and you should output the corresponding LaTeX code.                                         \u001b[32m│\u001b[0m\n",
       "\u001b[32m│\u001b[0m                                                                                                                 \u001b[32m│\u001b[0m\n",
       "\u001b[32m│\u001b[0m   Input: {{user_input}} Output: '                                                                               \u001b[32m│\u001b[0m\n",
       "\u001b[32m│\u001b[0m                                                                                                                 \u001b[32m│\u001b[0m\n",
       "\u001b[32m╰─────────────────────────────────────────────────────────────────────────────────────────────────────────────────╯\u001b[0m\n"
      ]
     },
     "metadata": {},
     "output_type": "display_data"
    },
    {
     "data": {
      "text/html": [
       "<pre style=\"white-space:pre;overflow-x:auto;line-height:normal;font-family:Menlo,'DejaVu Sans Mono',consolas,'Courier New',monospace\">✅ <span style=\"color: #008000; text-decoration-color: #008000; font-weight: bold\">SUCCESS:</span> The YAML file on disk has been updated.\n",
       "</pre>\n"
      ],
      "text/plain": [
       "✅ \u001b[1;32mSUCCESS:\u001b[0m The YAML file on disk has been updated.\n"
      ]
     },
     "metadata": {},
     "output_type": "display_data"
    },
    {
     "data": {
      "text/html": [
       "<pre style=\"white-space:pre;overflow-x:auto;line-height:normal;font-family:Menlo,'DejaVu Sans Mono',consolas,'Courier New',monospace\">\n",
       "Checking for AI usage log file<span style=\"color: #808000; text-decoration-color: #808000\">...</span>\n",
       "</pre>\n"
      ],
      "text/plain": [
       "\n",
       "Checking for AI usage log file\u001b[33m...\u001b[0m\n"
      ]
     },
     "metadata": {},
     "output_type": "display_data"
    },
    {
     "data": {
      "text/html": [
       "<pre style=\"white-space:pre;overflow-x:auto;line-height:normal;font-family:Menlo,'DejaVu Sans Mono',consolas,'Courier New',monospace\">✅ <span style=\"color: #008000; text-decoration-color: #008000; font-weight: bold\">SUCCESS:</span> Log file found at: <span style=\"color: #008080; text-decoration-color: #008080\">C:\\Users\\</span><span style=\"color: #008080; text-decoration-color: #008080; font-weight: bold\">91790</span><span style=\"color: #008080; text-decoration-color: #008080\">\\Desktop\\Projects\\prompt-lockbox\\.plb\\logs\\ai_usage.log.jsonl</span>\n",
       "</pre>\n"
      ],
      "text/plain": [
       "✅ \u001b[1;32mSUCCESS:\u001b[0m Log file found at: \u001b[36mC:\\Users\\\u001b[0m\u001b[1;36m91790\u001b[0m\u001b[36m\\Desktop\\Projects\\prompt-lockbox\\.plb\\logs\\ai_usage.log.jsonl\u001b[0m\n"
      ]
     },
     "metadata": {},
     "output_type": "display_data"
    },
    {
     "data": {
      "text/html": [
       "<pre style=\"white-space:pre;overflow-x:auto;line-height:normal;font-family:Menlo,'DejaVu Sans Mono',consolas,'Courier New',monospace\">\n",
       "--- Log Content ---\n",
       "</pre>\n"
      ],
      "text/plain": [
       "\n",
       "--- Log Content ---\n"
      ]
     },
     "metadata": {},
     "output_type": "display_data"
    },
    {
     "data": {
      "text/html": [
       "<pre style=\"white-space:pre;overflow-x:auto;line-height:normal;font-family:Menlo,'DejaVu Sans Mono',consolas,'Courier New',monospace\"><span style=\"font-weight: bold\">{</span><span style=\"color: #008000; text-decoration-color: #008000\">\"timestamp\"</span>: <span style=\"color: #008000; text-decoration-color: #008000\">\"2025-06-20T07:30:18.344343+00:00\"</span>, <span style=\"color: #008000; text-decoration-color: #008000\">\"level\"</span>: <span style=\"color: #008000; text-decoration-color: #008000\">\"INFO\"</span>, <span style=\"color: #008000; text-decoration-color: #008000\">\"action\"</span>: <span style=\"color: #008000; text-decoration-color: #008000\">\"generate_documentation\"</span>, <span style=\"color: #008000; text-decoration-color: #008000\">\"model\"</span>: \n",
       "<span style=\"color: #008000; text-decoration-color: #008000\">\"gpt-4o-mini-2024-07-18\"</span>, <span style=\"color: #008000; text-decoration-color: #008000\">\"usage\"</span>: <span style=\"font-weight: bold\">{</span><span style=\"color: #008000; text-decoration-color: #008000\">\"input\"</span>: <span style=\"color: #008080; text-decoration-color: #008080; font-weight: bold\">171</span>, <span style=\"color: #008000; text-decoration-color: #008000\">\"output\"</span>: <span style=\"color: #008080; text-decoration-color: #008080; font-weight: bold\">64</span>, <span style=\"color: #008000; text-decoration-color: #008000\">\"total\"</span>: <span style=\"color: #008080; text-decoration-color: #008080; font-weight: bold\">235</span><span style=\"font-weight: bold\">}}</span>\n",
       "<span style=\"font-weight: bold\">{</span><span style=\"color: #008000; text-decoration-color: #008000\">\"timestamp\"</span>: <span style=\"color: #008000; text-decoration-color: #008000\">\"2025-06-20T07:32:56.679439+00:00\"</span>, <span style=\"color: #008000; text-decoration-color: #008000\">\"level\"</span>: <span style=\"color: #008000; text-decoration-color: #008000\">\"INFO\"</span>, <span style=\"color: #008000; text-decoration-color: #008000\">\"action\"</span>: <span style=\"color: #008000; text-decoration-color: #008000\">\"generate_documentation\"</span>, <span style=\"color: #008000; text-decoration-color: #008000\">\"model\"</span>: \n",
       "<span style=\"color: #008000; text-decoration-color: #008000\">\"gpt-4o-mini-2024-07-18\"</span>, <span style=\"color: #008000; text-decoration-color: #008000\">\"usage\"</span>: <span style=\"font-weight: bold\">{</span><span style=\"color: #008000; text-decoration-color: #008000\">\"input\"</span>: <span style=\"color: #008080; text-decoration-color: #008080; font-weight: bold\">171</span>, <span style=\"color: #008000; text-decoration-color: #008000\">\"output\"</span>: <span style=\"color: #008080; text-decoration-color: #008080; font-weight: bold\">63</span>, <span style=\"color: #008000; text-decoration-color: #008000\">\"total\"</span>: <span style=\"color: #008080; text-decoration-color: #008080; font-weight: bold\">234</span><span style=\"font-weight: bold\">}}</span>\n",
       "<span style=\"font-weight: bold\">{</span><span style=\"color: #008000; text-decoration-color: #008000\">\"timestamp\"</span>: <span style=\"color: #008000; text-decoration-color: #008000\">\"2025-06-20T07:33:45.624861+00:00\"</span>, <span style=\"color: #008000; text-decoration-color: #008000\">\"level\"</span>: <span style=\"color: #008000; text-decoration-color: #008000\">\"INFO\"</span>, <span style=\"color: #008000; text-decoration-color: #008000\">\"action\"</span>: <span style=\"color: #008000; text-decoration-color: #008000\">\"generate_documentation\"</span>, <span style=\"color: #008000; text-decoration-color: #008000\">\"model\"</span>: \n",
       "<span style=\"color: #008000; text-decoration-color: #008000\">\"gpt-4o-mini-2024-07-18\"</span>, <span style=\"color: #008000; text-decoration-color: #008000\">\"usage\"</span>: <span style=\"font-weight: bold\">{</span><span style=\"color: #008000; text-decoration-color: #008000\">\"input\"</span>: <span style=\"color: #008080; text-decoration-color: #008080; font-weight: bold\">171</span>, <span style=\"color: #008000; text-decoration-color: #008000\">\"output\"</span>: <span style=\"color: #008080; text-decoration-color: #008080; font-weight: bold\">57</span>, <span style=\"color: #008000; text-decoration-color: #008000\">\"total\"</span>: <span style=\"color: #008080; text-decoration-color: #008080; font-weight: bold\">228</span><span style=\"font-weight: bold\">}}</span>\n",
       "<span style=\"font-weight: bold\">{</span><span style=\"color: #008000; text-decoration-color: #008000\">\"timestamp\"</span>: <span style=\"color: #008000; text-decoration-color: #008000\">\"2025-06-20T07:33:57.771307+00:00\"</span>, <span style=\"color: #008000; text-decoration-color: #008000\">\"level\"</span>: <span style=\"color: #008000; text-decoration-color: #008000\">\"INFO\"</span>, <span style=\"color: #008000; text-decoration-color: #008000\">\"action\"</span>: <span style=\"color: #008000; text-decoration-color: #008000\">\"generate_documentation\"</span>, <span style=\"color: #008000; text-decoration-color: #008000\">\"model\"</span>: \n",
       "<span style=\"color: #008000; text-decoration-color: #008000\">\"gpt-4o-mini-2024-07-18\"</span>, <span style=\"color: #008000; text-decoration-color: #008000\">\"usage\"</span>: <span style=\"font-weight: bold\">{</span><span style=\"color: #008000; text-decoration-color: #008000\">\"input\"</span>: <span style=\"color: #008080; text-decoration-color: #008080; font-weight: bold\">171</span>, <span style=\"color: #008000; text-decoration-color: #008000\">\"output\"</span>: <span style=\"color: #008080; text-decoration-color: #008080; font-weight: bold\">61</span>, <span style=\"color: #008000; text-decoration-color: #008000\">\"total\"</span>: <span style=\"color: #008080; text-decoration-color: #008080; font-weight: bold\">232</span><span style=\"font-weight: bold\">}}</span>\n",
       "<span style=\"font-weight: bold\">{</span><span style=\"color: #008000; text-decoration-color: #008000\">\"timestamp\"</span>: <span style=\"color: #008000; text-decoration-color: #008000\">\"2025-06-20T07:34:10.371904+00:00\"</span>, <span style=\"color: #008000; text-decoration-color: #008000\">\"level\"</span>: <span style=\"color: #008000; text-decoration-color: #008000\">\"INFO\"</span>, <span style=\"color: #008000; text-decoration-color: #008000\">\"action\"</span>: <span style=\"color: #008000; text-decoration-color: #008000\">\"generate_documentation\"</span>, <span style=\"color: #008000; text-decoration-color: #008000\">\"model\"</span>: \n",
       "<span style=\"color: #008000; text-decoration-color: #008000\">\"gpt-4o-mini-2024-07-18\"</span>, <span style=\"color: #008000; text-decoration-color: #008000\">\"usage\"</span>: <span style=\"font-weight: bold\">{</span><span style=\"color: #008000; text-decoration-color: #008000\">\"input\"</span>: <span style=\"color: #008080; text-decoration-color: #008080; font-weight: bold\">171</span>, <span style=\"color: #008000; text-decoration-color: #008000\">\"output\"</span>: <span style=\"color: #008080; text-decoration-color: #008080; font-weight: bold\">62</span>, <span style=\"color: #008000; text-decoration-color: #008000\">\"total\"</span>: <span style=\"color: #008080; text-decoration-color: #008080; font-weight: bold\">233</span><span style=\"font-weight: bold\">}}</span>\n",
       "<span style=\"font-weight: bold\">{</span><span style=\"color: #008000; text-decoration-color: #008000\">\"timestamp\"</span>: <span style=\"color: #008000; text-decoration-color: #008000\">\"2025-06-20T08:51:55.536855+00:00\"</span>, <span style=\"color: #008000; text-decoration-color: #008000\">\"level\"</span>: <span style=\"color: #008000; text-decoration-color: #008000\">\"INFO\"</span>, <span style=\"color: #008000; text-decoration-color: #008000\">\"action\"</span>: <span style=\"color: #008000; text-decoration-color: #008000\">\"generate_documentation\"</span>, <span style=\"color: #008000; text-decoration-color: #008000\">\"model\"</span>: \n",
       "<span style=\"color: #008000; text-decoration-color: #008000\">\"gpt-4o-mini-2024-07-18\"</span>, <span style=\"color: #008000; text-decoration-color: #008000\">\"usage\"</span>: <span style=\"font-weight: bold\">{</span><span style=\"color: #008000; text-decoration-color: #008000\">\"input\"</span>: <span style=\"color: #008080; text-decoration-color: #008080; font-weight: bold\">171</span>, <span style=\"color: #008000; text-decoration-color: #008000\">\"output\"</span>: <span style=\"color: #008080; text-decoration-color: #008080; font-weight: bold\">63</span>, <span style=\"color: #008000; text-decoration-color: #008000\">\"total\"</span>: <span style=\"color: #008080; text-decoration-color: #008080; font-weight: bold\">234</span><span style=\"font-weight: bold\">}}</span>\n",
       "<span style=\"font-weight: bold\">{</span><span style=\"color: #008000; text-decoration-color: #008000\">\"timestamp\"</span>: <span style=\"color: #008000; text-decoration-color: #008000\">\"2025-06-20T08:52:06.184494+00:00\"</span>, <span style=\"color: #008000; text-decoration-color: #008000\">\"level\"</span>: <span style=\"color: #008000; text-decoration-color: #008000\">\"INFO\"</span>, <span style=\"color: #008000; text-decoration-color: #008000\">\"action\"</span>: <span style=\"color: #008000; text-decoration-color: #008000\">\"generate_documentation\"</span>, <span style=\"color: #008000; text-decoration-color: #008000\">\"model\"</span>: \n",
       "<span style=\"color: #008000; text-decoration-color: #008000\">\"gpt-4o-mini-2024-07-18\"</span>, <span style=\"color: #008000; text-decoration-color: #008000\">\"usage\"</span>: <span style=\"font-weight: bold\">{</span><span style=\"color: #008000; text-decoration-color: #008000\">\"input\"</span>: <span style=\"color: #008080; text-decoration-color: #008080; font-weight: bold\">171</span>, <span style=\"color: #008000; text-decoration-color: #008000\">\"output\"</span>: <span style=\"color: #008080; text-decoration-color: #008080; font-weight: bold\">61</span>, <span style=\"color: #008000; text-decoration-color: #008000\">\"total\"</span>: <span style=\"color: #008080; text-decoration-color: #008080; font-weight: bold\">232</span><span style=\"font-weight: bold\">}}</span>\n",
       "<span style=\"font-weight: bold\">{</span><span style=\"color: #008000; text-decoration-color: #008000\">\"timestamp\"</span>: <span style=\"color: #008000; text-decoration-color: #008000\">\"2025-06-20T15:40:12.090408+00:00\"</span>, <span style=\"color: #008000; text-decoration-color: #008000\">\"level\"</span>: <span style=\"color: #008000; text-decoration-color: #008000\">\"INFO\"</span>, <span style=\"color: #008000; text-decoration-color: #008000\">\"action\"</span>: <span style=\"color: #008000; text-decoration-color: #008000\">\"generate_documentation\"</span>, <span style=\"color: #008000; text-decoration-color: #008000\">\"model\"</span>: \n",
       "<span style=\"color: #008000; text-decoration-color: #008000\">\"gpt-4o-mini-2024-07-18\"</span>, <span style=\"color: #008000; text-decoration-color: #008000\">\"usage\"</span>: <span style=\"font-weight: bold\">{</span><span style=\"color: #008000; text-decoration-color: #008000\">\"input\"</span>: <span style=\"color: #008080; text-decoration-color: #008080; font-weight: bold\">178</span>, <span style=\"color: #008000; text-decoration-color: #008000\">\"output\"</span>: <span style=\"color: #008080; text-decoration-color: #008080; font-weight: bold\">54</span>, <span style=\"color: #008000; text-decoration-color: #008000\">\"total\"</span>: <span style=\"color: #008080; text-decoration-color: #008080; font-weight: bold\">232</span><span style=\"font-weight: bold\">}}</span>\n",
       "\n",
       "</pre>\n"
      ],
      "text/plain": [
       "\u001b[1m{\u001b[0m\u001b[32m\"timestamp\"\u001b[0m: \u001b[32m\"2025-06-20T07:30:18.344343+00:00\"\u001b[0m, \u001b[32m\"level\"\u001b[0m: \u001b[32m\"INFO\"\u001b[0m, \u001b[32m\"action\"\u001b[0m: \u001b[32m\"generate_documentation\"\u001b[0m, \u001b[32m\"model\"\u001b[0m: \n",
       "\u001b[32m\"gpt-4o-mini-2024-07-18\"\u001b[0m, \u001b[32m\"usage\"\u001b[0m: \u001b[1m{\u001b[0m\u001b[32m\"input\"\u001b[0m: \u001b[1;36m171\u001b[0m, \u001b[32m\"output\"\u001b[0m: \u001b[1;36m64\u001b[0m, \u001b[32m\"total\"\u001b[0m: \u001b[1;36m235\u001b[0m\u001b[1m}\u001b[0m\u001b[1m}\u001b[0m\n",
       "\u001b[1m{\u001b[0m\u001b[32m\"timestamp\"\u001b[0m: \u001b[32m\"2025-06-20T07:32:56.679439+00:00\"\u001b[0m, \u001b[32m\"level\"\u001b[0m: \u001b[32m\"INFO\"\u001b[0m, \u001b[32m\"action\"\u001b[0m: \u001b[32m\"generate_documentation\"\u001b[0m, \u001b[32m\"model\"\u001b[0m: \n",
       "\u001b[32m\"gpt-4o-mini-2024-07-18\"\u001b[0m, \u001b[32m\"usage\"\u001b[0m: \u001b[1m{\u001b[0m\u001b[32m\"input\"\u001b[0m: \u001b[1;36m171\u001b[0m, \u001b[32m\"output\"\u001b[0m: \u001b[1;36m63\u001b[0m, \u001b[32m\"total\"\u001b[0m: \u001b[1;36m234\u001b[0m\u001b[1m}\u001b[0m\u001b[1m}\u001b[0m\n",
       "\u001b[1m{\u001b[0m\u001b[32m\"timestamp\"\u001b[0m: \u001b[32m\"2025-06-20T07:33:45.624861+00:00\"\u001b[0m, \u001b[32m\"level\"\u001b[0m: \u001b[32m\"INFO\"\u001b[0m, \u001b[32m\"action\"\u001b[0m: \u001b[32m\"generate_documentation\"\u001b[0m, \u001b[32m\"model\"\u001b[0m: \n",
       "\u001b[32m\"gpt-4o-mini-2024-07-18\"\u001b[0m, \u001b[32m\"usage\"\u001b[0m: \u001b[1m{\u001b[0m\u001b[32m\"input\"\u001b[0m: \u001b[1;36m171\u001b[0m, \u001b[32m\"output\"\u001b[0m: \u001b[1;36m57\u001b[0m, \u001b[32m\"total\"\u001b[0m: \u001b[1;36m228\u001b[0m\u001b[1m}\u001b[0m\u001b[1m}\u001b[0m\n",
       "\u001b[1m{\u001b[0m\u001b[32m\"timestamp\"\u001b[0m: \u001b[32m\"2025-06-20T07:33:57.771307+00:00\"\u001b[0m, \u001b[32m\"level\"\u001b[0m: \u001b[32m\"INFO\"\u001b[0m, \u001b[32m\"action\"\u001b[0m: \u001b[32m\"generate_documentation\"\u001b[0m, \u001b[32m\"model\"\u001b[0m: \n",
       "\u001b[32m\"gpt-4o-mini-2024-07-18\"\u001b[0m, \u001b[32m\"usage\"\u001b[0m: \u001b[1m{\u001b[0m\u001b[32m\"input\"\u001b[0m: \u001b[1;36m171\u001b[0m, \u001b[32m\"output\"\u001b[0m: \u001b[1;36m61\u001b[0m, \u001b[32m\"total\"\u001b[0m: \u001b[1;36m232\u001b[0m\u001b[1m}\u001b[0m\u001b[1m}\u001b[0m\n",
       "\u001b[1m{\u001b[0m\u001b[32m\"timestamp\"\u001b[0m: \u001b[32m\"2025-06-20T07:34:10.371904+00:00\"\u001b[0m, \u001b[32m\"level\"\u001b[0m: \u001b[32m\"INFO\"\u001b[0m, \u001b[32m\"action\"\u001b[0m: \u001b[32m\"generate_documentation\"\u001b[0m, \u001b[32m\"model\"\u001b[0m: \n",
       "\u001b[32m\"gpt-4o-mini-2024-07-18\"\u001b[0m, \u001b[32m\"usage\"\u001b[0m: \u001b[1m{\u001b[0m\u001b[32m\"input\"\u001b[0m: \u001b[1;36m171\u001b[0m, \u001b[32m\"output\"\u001b[0m: \u001b[1;36m62\u001b[0m, \u001b[32m\"total\"\u001b[0m: \u001b[1;36m233\u001b[0m\u001b[1m}\u001b[0m\u001b[1m}\u001b[0m\n",
       "\u001b[1m{\u001b[0m\u001b[32m\"timestamp\"\u001b[0m: \u001b[32m\"2025-06-20T08:51:55.536855+00:00\"\u001b[0m, \u001b[32m\"level\"\u001b[0m: \u001b[32m\"INFO\"\u001b[0m, \u001b[32m\"action\"\u001b[0m: \u001b[32m\"generate_documentation\"\u001b[0m, \u001b[32m\"model\"\u001b[0m: \n",
       "\u001b[32m\"gpt-4o-mini-2024-07-18\"\u001b[0m, \u001b[32m\"usage\"\u001b[0m: \u001b[1m{\u001b[0m\u001b[32m\"input\"\u001b[0m: \u001b[1;36m171\u001b[0m, \u001b[32m\"output\"\u001b[0m: \u001b[1;36m63\u001b[0m, \u001b[32m\"total\"\u001b[0m: \u001b[1;36m234\u001b[0m\u001b[1m}\u001b[0m\u001b[1m}\u001b[0m\n",
       "\u001b[1m{\u001b[0m\u001b[32m\"timestamp\"\u001b[0m: \u001b[32m\"2025-06-20T08:52:06.184494+00:00\"\u001b[0m, \u001b[32m\"level\"\u001b[0m: \u001b[32m\"INFO\"\u001b[0m, \u001b[32m\"action\"\u001b[0m: \u001b[32m\"generate_documentation\"\u001b[0m, \u001b[32m\"model\"\u001b[0m: \n",
       "\u001b[32m\"gpt-4o-mini-2024-07-18\"\u001b[0m, \u001b[32m\"usage\"\u001b[0m: \u001b[1m{\u001b[0m\u001b[32m\"input\"\u001b[0m: \u001b[1;36m171\u001b[0m, \u001b[32m\"output\"\u001b[0m: \u001b[1;36m61\u001b[0m, \u001b[32m\"total\"\u001b[0m: \u001b[1;36m232\u001b[0m\u001b[1m}\u001b[0m\u001b[1m}\u001b[0m\n",
       "\u001b[1m{\u001b[0m\u001b[32m\"timestamp\"\u001b[0m: \u001b[32m\"2025-06-20T15:40:12.090408+00:00\"\u001b[0m, \u001b[32m\"level\"\u001b[0m: \u001b[32m\"INFO\"\u001b[0m, \u001b[32m\"action\"\u001b[0m: \u001b[32m\"generate_documentation\"\u001b[0m, \u001b[32m\"model\"\u001b[0m: \n",
       "\u001b[32m\"gpt-4o-mini-2024-07-18\"\u001b[0m, \u001b[32m\"usage\"\u001b[0m: \u001b[1m{\u001b[0m\u001b[32m\"input\"\u001b[0m: \u001b[1;36m178\u001b[0m, \u001b[32m\"output\"\u001b[0m: \u001b[1;36m54\u001b[0m, \u001b[32m\"total\"\u001b[0m: \u001b[1;36m232\u001b[0m\u001b[1m}\u001b[0m\u001b[1m}\u001b[0m\n",
       "\n"
      ]
     },
     "metadata": {},
     "output_type": "display_data"
    }
   ],
   "source": [
    "# Cell 3: Verify the File and Log\n",
    "\n",
    "if 'test_prompt' in locals() and test_prompt:\n",
    "    print(\"\\n--- 🚀 Verifying Changes ---\")\n",
    "\n",
    "    # 1. Reload the prompt object from disk to get the fresh data\n",
    "    print(\"Reloading prompt from file to confirm changes...\")\n",
    "    reloaded_prompt = project.get_prompt(TEST_PROMPT_NAME)\n",
    "    \n",
    "    if reloaded_prompt:\n",
    "        print(f\"\\n--- Final State of '{TEST_PROMPT_NAME}' ---\")\n",
    "        final_content = yaml.dump(reloaded_prompt.data, sort_keys=False, indent=2)\n",
    "        print(Panel(final_content, title=\"After AI Modification\", border_style=\"green\"))\n",
    "        print(\"✅ [bold green]SUCCESS:[/bold green] The YAML file on disk has been updated.\")\n",
    "    else:\n",
    "        print(\"❌ [bold red]FAILURE:[/bold red] Could not reload the prompt after modification.\")\n",
    "\n",
    "    # 2. Check for the AI usage log file\n",
    "    print(\"\\nChecking for AI usage log file...\")\n",
    "    log_file = project.root / \".plb\" / \"logs\" / \"ai_usage.log.jsonl\"\n",
    "    \n",
    "    if log_file.exists():\n",
    "        print(f\"✅ [bold green]SUCCESS:[/bold green] Log file found at: [cyan]{log_file}[/cyan]\")\n",
    "        print(\"\\n--- Log Content ---\")\n",
    "        print(log_file.read_text())\n",
    "    else:\n",
    "        print(\"❌ [bold red]FAILURE:[/bold red] AI usage log file was not created.\")\n",
    "\n",
    "else:\n",
    "    print(\"Skipping cell because test_prompt was not loaded.\")"
   ]
  },
  {
   "cell_type": "code",
   "execution_count": null,
   "id": "b5329fa7",
   "metadata": {},
   "outputs": [],
   "source": []
  }
 ],
 "metadata": {
  "kernelspec": {
   "display_name": "prompt-lockbox-py3.10",
   "language": "python",
   "name": "python3"
  },
  "language_info": {
   "codemirror_mode": {
    "name": "ipython",
    "version": 3
   },
   "file_extension": ".py",
   "mimetype": "text/x-python",
   "name": "python",
   "nbconvert_exporter": "python",
   "pygments_lexer": "ipython3",
   "version": "3.10.11"
  }
 },
 "nbformat": 4,
 "nbformat_minor": 5
}
