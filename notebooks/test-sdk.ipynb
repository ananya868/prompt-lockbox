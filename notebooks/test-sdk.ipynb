{
 "cells": [
  {
   "cell_type": "markdown",
   "id": "a521eeae",
   "metadata": {},
   "source": [
    "### **1: Imports and Project Initialization**\n",
    "\n",
    "This first cell tests the most fundamental part of the SDK: can it find and initialize your project?"
   ]
  },
  {
   "cell_type": "code",
   "execution_count": 1,
   "id": "ce9d903b",
   "metadata": {},
   "outputs": [
    {
     "data": {
      "text/html": [
       "<pre style=\"white-space:pre;overflow-x:auto;line-height:normal;font-family:Menlo,'DejaVu Sans Mono',consolas,'Courier New',monospace\">--- 🚀 Testing Project Initialization ---\n",
       "</pre>\n"
      ],
      "text/plain": [
       "--- 🚀 Testing Project Initialization ---\n"
      ]
     },
     "metadata": {},
     "output_type": "display_data"
    },
    {
     "data": {
      "text/html": [
       "<pre style=\"white-space:pre;overflow-x:auto;line-height:normal;font-family:Menlo,'DejaVu Sans Mono',consolas,'Courier New',monospace\">✅ <span style=\"color: #008000; text-decoration-color: #008000; font-weight: bold\">SUCCESS:</span> Project initialized successfully!\n",
       "</pre>\n"
      ],
      "text/plain": [
       "✅ \u001b[1;32mSUCCESS:\u001b[0m Project initialized successfully!\n"
      ]
     },
     "metadata": {},
     "output_type": "display_data"
    },
    {
     "data": {
      "text/html": [
       "<pre style=\"white-space:pre;overflow-x:auto;line-height:normal;font-family:Menlo,'DejaVu Sans Mono',consolas,'Courier New',monospace\">Discovered Project Root: <span style=\"color: #008080; text-decoration-color: #008080\">C:\\Users\\</span><span style=\"color: #008080; text-decoration-color: #008080; font-weight: bold\">91790</span><span style=\"color: #008080; text-decoration-color: #008080\">\\Desktop\\Projects\\prompt-lockbox</span>\n",
       "</pre>\n"
      ],
      "text/plain": [
       "Discovered Project Root: \u001b[36mC:\\Users\\\u001b[0m\u001b[1;36m91790\u001b[0m\u001b[36m\\Desktop\\Projects\\prompt-lockbox\u001b[0m\n"
      ]
     },
     "metadata": {},
     "output_type": "display_data"
    }
   ],
   "source": [
    "# Cell 1: Imports and Initialization\n",
    "\n",
    "# Import the top-level classes from your newly polished SDK\n",
    "from prompt_lockbox import Project, Prompt\n",
    "from rich import print # Using rich.print for nice output in the notebook\n",
    "\n",
    "print(\"--- 🚀 Testing Project Initialization ---\")\n",
    "\n",
    "try:\n",
    "    # This should work because the notebook is running from the project root\n",
    "    project = Project()\n",
    "    print(\"✅ [bold green]SUCCESS:[/bold green] Project initialized successfully!\")\n",
    "    print(f\"Discovered Project Root: [cyan]{project.root}[/cyan]\")\n",
    "except FileNotFoundError as e:\n",
    "    print(f\"❌ [bold red]FAILURE:[/bold red] {e}\")"
   ]
  },
  {
   "cell_type": "markdown",
   "id": "989b900b",
   "metadata": {},
   "source": [
    "---"
   ]
  },
  {
   "cell_type": "markdown",
   "id": "800a3fa8",
   "metadata": {},
   "source": [
    "### **2: Listing and Getting Prompts**\n",
    "\n",
    "This tests the core functionality of finding and loading prompt files."
   ]
  },
  {
   "cell_type": "code",
   "execution_count": 2,
   "id": "2192ae51",
   "metadata": {},
   "outputs": [
    {
     "data": {
      "text/html": [
       "<pre style=\"white-space:pre;overflow-x:auto;line-height:normal;font-family:Menlo,'DejaVu Sans Mono',consolas,'Courier New',monospace\">\n",
       "--- 🚀 Testing Prompt Retrieval ---\n",
       "</pre>\n"
      ],
      "text/plain": [
       "\n",
       "--- 🚀 Testing Prompt Retrieval ---\n"
      ]
     },
     "metadata": {},
     "output_type": "display_data"
    },
    {
     "data": {
      "text/html": [
       "<pre style=\"white-space:pre;overflow-x:auto;line-height:normal;font-family:Menlo,'DejaVu Sans Mono',consolas,'Courier New',monospace\">Found <span style=\"color: #008080; text-decoration-color: #008080; font-weight: bold\">7</span> prompts in the project.\n",
       "</pre>\n"
      ],
      "text/plain": [
       "Found \u001b[1;36m7\u001b[0m prompts in the project.\n"
      ]
     },
     "metadata": {},
     "output_type": "display_data"
    },
    {
     "data": {
      "text/html": [
       "<pre style=\"white-space:pre;overflow-x:auto;line-height:normal;font-family:Menlo,'DejaVu Sans Mono',consolas,'Courier New',monospace\">✅ <span style=\"color: #008000; text-decoration-color: #008000; font-weight: bold\">SUCCESS:</span> `<span style=\"color: #800080; text-decoration-color: #800080; font-weight: bold\">list_prompts</span><span style=\"font-weight: bold\">()</span>` executed.\n",
       "</pre>\n"
      ],
      "text/plain": [
       "✅ \u001b[1;32mSUCCESS:\u001b[0m `\u001b[1;35mlist_prompts\u001b[0m\u001b[1m(\u001b[0m\u001b[1m)\u001b[0m` executed.\n"
      ]
     },
     "metadata": {},
     "output_type": "display_data"
    },
    {
     "data": {
      "text/html": [
       "<pre style=\"white-space:pre;overflow-x:auto;line-height:normal;font-family:Menlo,'DejaVu Sans Mono',consolas,'Courier New',monospace\">All prompt objects:\n",
       "<span style=\"font-weight: bold\">[</span>\n",
       "    <span style=\"font-weight: bold\">&lt;</span><span style=\"color: #ff00ff; text-decoration-color: #ff00ff; font-weight: bold\">Prompt</span><span style=\"color: #000000; text-decoration-color: #000000\"> </span><span style=\"color: #808000; text-decoration-color: #808000\">name</span><span style=\"color: #000000; text-decoration-color: #000000\">=</span><span style=\"color: #008000; text-decoration-color: #008000\">'ample'</span><span style=\"color: #000000; text-decoration-color: #000000\"> </span><span style=\"color: #808000; text-decoration-color: #808000\">version</span><span style=\"color: #000000; text-decoration-color: #000000\">=</span><span style=\"color: #008000; text-decoration-color: #008000\">'1.0.0'</span><span style=\"color: #000000; text-decoration-color: #000000\">&gt;,</span>\n",
       "<span style=\"color: #000000; text-decoration-color: #000000\">    &lt;Prompt </span><span style=\"color: #808000; text-decoration-color: #808000\">name</span><span style=\"color: #000000; text-decoration-color: #000000\">=</span><span style=\"color: #008000; text-decoration-color: #008000\">'message-summarizer'</span><span style=\"color: #000000; text-decoration-color: #000000\"> </span><span style=\"color: #808000; text-decoration-color: #808000\">version</span><span style=\"color: #000000; text-decoration-color: #000000\">=</span><span style=\"color: #008000; text-decoration-color: #008000\">'1.0.0'</span><span style=\"color: #000000; text-decoration-color: #000000\">&gt;,</span>\n",
       "<span style=\"color: #000000; text-decoration-color: #000000\">    &lt;Prompt </span><span style=\"color: #808000; text-decoration-color: #808000\">name</span><span style=\"color: #000000; text-decoration-color: #000000\">=</span><span style=\"color: #008000; text-decoration-color: #008000\">'tex'</span><span style=\"color: #000000; text-decoration-color: #000000\"> </span><span style=\"color: #808000; text-decoration-color: #808000\">version</span><span style=\"color: #000000; text-decoration-color: #000000\">=</span><span style=\"color: #008000; text-decoration-color: #008000\">'1.0.0'</span><span style=\"color: #000000; text-decoration-color: #000000\">&gt;,</span>\n",
       "<span style=\"color: #000000; text-decoration-color: #000000\">    &lt;Prompt </span><span style=\"color: #808000; text-decoration-color: #808000\">name</span><span style=\"color: #000000; text-decoration-color: #000000\">=</span><span style=\"color: #008000; text-decoration-color: #008000\">'tex'</span><span style=\"color: #000000; text-decoration-color: #000000\"> </span><span style=\"color: #808000; text-decoration-color: #808000\">version</span><span style=\"color: #000000; text-decoration-color: #000000\">=</span><span style=\"color: #008000; text-decoration-color: #008000\">'1.0.1'</span><span style=\"color: #000000; text-decoration-color: #000000\">&gt;,</span>\n",
       "<span style=\"color: #000000; text-decoration-color: #000000\">    &lt;Prompt </span><span style=\"color: #808000; text-decoration-color: #808000\">name</span><span style=\"color: #000000; text-decoration-color: #000000\">=</span><span style=\"color: #008000; text-decoration-color: #008000\">'tico'</span><span style=\"color: #000000; text-decoration-color: #000000\"> </span><span style=\"color: #808000; text-decoration-color: #808000\">version</span><span style=\"color: #000000; text-decoration-color: #000000\">=</span><span style=\"color: #008000; text-decoration-color: #008000\">'1.0.0'</span><span style=\"color: #000000; text-decoration-color: #000000\">&gt;,</span>\n",
       "<span style=\"color: #000000; text-decoration-color: #000000\">    &lt;Prompt </span><span style=\"color: #808000; text-decoration-color: #808000\">name</span><span style=\"color: #000000; text-decoration-color: #000000\">=</span><span style=\"color: #008000; text-decoration-color: #008000\">'tika'</span><span style=\"color: #000000; text-decoration-color: #000000\"> </span><span style=\"color: #808000; text-decoration-color: #808000\">version</span><span style=\"color: #000000; text-decoration-color: #000000\">=</span><span style=\"color: #008000; text-decoration-color: #008000\">'1.0.0'</span><span style=\"color: #000000; text-decoration-color: #000000\">&gt;,</span>\n",
       "<span style=\"color: #000000; text-decoration-color: #000000\">    &lt;Prompt </span><span style=\"color: #808000; text-decoration-color: #808000\">name</span><span style=\"color: #000000; text-decoration-color: #000000\">=</span><span style=\"color: #008000; text-decoration-color: #008000\">'Translator-prompt'</span><span style=\"color: #000000; text-decoration-color: #000000\"> </span><span style=\"color: #808000; text-decoration-color: #808000\">version</span><span style=\"color: #000000; text-decoration-color: #000000\">=</span><span style=\"color: #008000; text-decoration-color: #008000\">'1.0.0'</span><span style=\"font-weight: bold\">&gt;</span>\n",
       "<span style=\"font-weight: bold\">]</span>\n",
       "</pre>\n"
      ],
      "text/plain": [
       "All prompt objects:\n",
       "\u001b[1m[\u001b[0m\n",
       "    \u001b[1m<\u001b[0m\u001b[1;95mPrompt\u001b[0m\u001b[39m \u001b[0m\u001b[33mname\u001b[0m\u001b[39m=\u001b[0m\u001b[32m'ample'\u001b[0m\u001b[39m \u001b[0m\u001b[33mversion\u001b[0m\u001b[39m=\u001b[0m\u001b[32m'1.0.0'\u001b[0m\u001b[39m>,\u001b[0m\n",
       "\u001b[39m    <Prompt \u001b[0m\u001b[33mname\u001b[0m\u001b[39m=\u001b[0m\u001b[32m'message-summarizer'\u001b[0m\u001b[39m \u001b[0m\u001b[33mversion\u001b[0m\u001b[39m=\u001b[0m\u001b[32m'1.0.0'\u001b[0m\u001b[39m>,\u001b[0m\n",
       "\u001b[39m    <Prompt \u001b[0m\u001b[33mname\u001b[0m\u001b[39m=\u001b[0m\u001b[32m'tex'\u001b[0m\u001b[39m \u001b[0m\u001b[33mversion\u001b[0m\u001b[39m=\u001b[0m\u001b[32m'1.0.0'\u001b[0m\u001b[39m>,\u001b[0m\n",
       "\u001b[39m    <Prompt \u001b[0m\u001b[33mname\u001b[0m\u001b[39m=\u001b[0m\u001b[32m'tex'\u001b[0m\u001b[39m \u001b[0m\u001b[33mversion\u001b[0m\u001b[39m=\u001b[0m\u001b[32m'1.0.1'\u001b[0m\u001b[39m>,\u001b[0m\n",
       "\u001b[39m    <Prompt \u001b[0m\u001b[33mname\u001b[0m\u001b[39m=\u001b[0m\u001b[32m'tico'\u001b[0m\u001b[39m \u001b[0m\u001b[33mversion\u001b[0m\u001b[39m=\u001b[0m\u001b[32m'1.0.0'\u001b[0m\u001b[39m>,\u001b[0m\n",
       "\u001b[39m    <Prompt \u001b[0m\u001b[33mname\u001b[0m\u001b[39m=\u001b[0m\u001b[32m'tika'\u001b[0m\u001b[39m \u001b[0m\u001b[33mversion\u001b[0m\u001b[39m=\u001b[0m\u001b[32m'1.0.0'\u001b[0m\u001b[39m>,\u001b[0m\n",
       "\u001b[39m    <Prompt \u001b[0m\u001b[33mname\u001b[0m\u001b[39m=\u001b[0m\u001b[32m'Translator-prompt'\u001b[0m\u001b[39m \u001b[0m\u001b[33mversion\u001b[0m\u001b[39m=\u001b[0m\u001b[32m'1.0.0'\u001b[0m\u001b[1m>\u001b[0m\n",
       "\u001b[1m]\u001b[0m\n"
      ]
     },
     "metadata": {},
     "output_type": "display_data"
    },
    {
     "data": {
      "text/html": [
       "<pre style=\"white-space:pre;overflow-x:auto;line-height:normal;font-family:Menlo,'DejaVu Sans Mono',consolas,'Courier New',monospace\">\n",
       "Attempting to get prompt: <span style=\"color: #008000; text-decoration-color: #008000\">'message-summarizer'</span>\n",
       "</pre>\n"
      ],
      "text/plain": [
       "\n",
       "Attempting to get prompt: \u001b[32m'message-summarizer'\u001b[0m\n"
      ]
     },
     "metadata": {},
     "output_type": "display_data"
    },
    {
     "data": {
      "text/html": [
       "<pre style=\"white-space:pre;overflow-x:auto;line-height:normal;font-family:Menlo,'DejaVu Sans Mono',consolas,'Courier New',monospace\">✅ <span style=\"color: #008000; text-decoration-color: #008000; font-weight: bold\">SUCCESS:</span> `<span style=\"color: #800080; text-decoration-color: #800080; font-weight: bold\">get_prompt</span><span style=\"font-weight: bold\">()</span>` returned a Prompt object.\n",
       "</pre>\n"
      ],
      "text/plain": [
       "✅ \u001b[1;32mSUCCESS:\u001b[0m `\u001b[1;35mget_prompt\u001b[0m\u001b[1m(\u001b[0m\u001b[1m)\u001b[0m` returned a Prompt object.\n"
      ]
     },
     "metadata": {},
     "output_type": "display_data"
    },
    {
     "data": {
      "text/html": [
       "<pre style=\"white-space:pre;overflow-x:auto;line-height:normal;font-family:Menlo,'DejaVu Sans Mono',consolas,'Courier New',monospace\">Prompt details:\n",
       "</pre>\n"
      ],
      "text/plain": [
       "Prompt details:\n"
      ]
     },
     "metadata": {},
     "output_type": "display_data"
    },
    {
     "data": {
      "text/html": [
       "<pre style=\"white-space:pre;overflow-x:auto;line-height:normal;font-family:Menlo,'DejaVu Sans Mono',consolas,'Courier New',monospace\">  - Name: message-summarizer\n",
       "</pre>\n"
      ],
      "text/plain": [
       "  - Name: message-summarizer\n"
      ]
     },
     "metadata": {},
     "output_type": "display_data"
    },
    {
     "data": {
      "text/html": [
       "<pre style=\"white-space:pre;overflow-x:auto;line-height:normal;font-family:Menlo,'DejaVu Sans Mono',consolas,'Courier New',monospace\">  - Version: <span style=\"color: #008080; text-decoration-color: #008080; font-weight: bold\">1.0</span>.<span style=\"color: #008080; text-decoration-color: #008080; font-weight: bold\">0</span>\n",
       "</pre>\n"
      ],
      "text/plain": [
       "  - Version: \u001b[1;36m1.0\u001b[0m.\u001b[1;36m0\u001b[0m\n"
      ]
     },
     "metadata": {},
     "output_type": "display_data"
    },
    {
     "data": {
      "text/html": [
       "<pre style=\"white-space:pre;overflow-x:auto;line-height:normal;font-family:Menlo,'DejaVu Sans Mono',consolas,'Courier New',monospace\">  - Path: prompts\\message-summarizer.v1.<span style=\"color: #008080; text-decoration-color: #008080; font-weight: bold\">0.0</span>.yml\n",
       "</pre>\n"
      ],
      "text/plain": [
       "  - Path: prompts\\message-summarizer.v1.\u001b[1;36m0.0\u001b[0m.yml\n"
      ]
     },
     "metadata": {},
     "output_type": "display_data"
    },
    {
     "data": {
      "text/html": [
       "<pre style=\"white-space:pre;overflow-x:auto;line-height:normal;font-family:Menlo,'DejaVu Sans Mono',consolas,'Courier New',monospace\">  - Required Variables: <span style=\"color: #800080; text-decoration-color: #800080; font-weight: bold\">set</span><span style=\"font-weight: bold\">()</span>\n",
       "</pre>\n"
      ],
      "text/plain": [
       "  - Required Variables: \u001b[1;35mset\u001b[0m\u001b[1m(\u001b[0m\u001b[1m)\u001b[0m\n"
      ]
     },
     "metadata": {},
     "output_type": "display_data"
    }
   ],
   "source": [
    "# Cell 2: Listing and Getting Prompts\n",
    "\n",
    "if 'project' in locals():\n",
    "    print(\"\\n--- 🚀 Testing Prompt Retrieval ---\")\n",
    "    \n",
    "    # Test 1: List all prompts\n",
    "    all_prompts = project.list_prompts()\n",
    "    print(f\"Found {len(all_prompts)} prompts in the project.\")\n",
    "    print(\"✅ [bold green]SUCCESS:[/bold green] `list_prompts()` executed.\")\n",
    "    print(\"All prompt objects:\", all_prompts)\n",
    "    \n",
    "    # Test 2: Get a specific prompt by name\n",
    "    # !! IMPORTANT: Change 'message-summarizer' to a real prompt name in your project !!\n",
    "    PROMPT_NAME = \"message-summarizer\" \n",
    "    print(f\"\\nAttempting to get prompt: '{PROMPT_NAME}'\")\n",
    "    \n",
    "    prompt_obj = project.get_prompt(PROMPT_NAME)\n",
    "    \n",
    "    if prompt_obj:\n",
    "        print(\"✅ [bold green]SUCCESS:[/bold green] `get_prompt()` returned a Prompt object.\")\n",
    "        print(\"Prompt details:\")\n",
    "        print(f\"  - Name: {prompt_obj.name}\")\n",
    "        print(f\"  - Version: {prompt_obj.version}\")\n",
    "        print(f\"  - Path: {prompt_obj.path.relative_to(project.root)}\")\n",
    "        print(f\"  - Required Variables: {prompt_obj.required_variables}\")\n",
    "    else:\n",
    "        print(f\"❌ [bold red]FAILURE:[/bold red] Could not find prompt named '{PROMPT_NAME}'.\")\n",
    "        print(\"   Please ensure the prompt exists and the name is correct.\")"
   ]
  },
  {
   "cell_type": "markdown",
   "id": "18cb47d3",
   "metadata": {},
   "source": [
    "---"
   ]
  },
  {
   "cell_type": "markdown",
   "id": "3c775822",
   "metadata": {},
   "source": [
    "### **3: Rendering a Prompt**\n",
    "\n",
    "This tests the Jinja2 templating engine."
   ]
  },
  {
   "cell_type": "code",
   "execution_count": 3,
   "id": "4944ea06",
   "metadata": {},
   "outputs": [
    {
     "data": {
      "text/html": [
       "<pre style=\"white-space:pre;overflow-x:auto;line-height:normal;font-family:Menlo,'DejaVu Sans Mono',consolas,'Courier New',monospace\">\n",
       "--- 🚀 Testing Prompt Rendering ---\n",
       "</pre>\n"
      ],
      "text/plain": [
       "\n",
       "--- 🚀 Testing Prompt Rendering ---\n"
      ]
     },
     "metadata": {},
     "output_type": "display_data"
    },
    {
     "data": {
      "text/html": [
       "<pre style=\"white-space:pre;overflow-x:auto;line-height:normal;font-family:Menlo,'DejaVu Sans Mono',consolas,'Courier New',monospace\">Testing render with required variables<span style=\"color: #808000; text-decoration-color: #808000\">...</span>\n",
       "</pre>\n"
      ],
      "text/plain": [
       "Testing render with required variables\u001b[33m...\u001b[0m\n"
      ]
     },
     "metadata": {},
     "output_type": "display_data"
    },
    {
     "data": {
      "text/html": [
       "<pre style=\"white-space:pre;overflow-x:auto;line-height:normal;font-family:Menlo,'DejaVu Sans Mono',consolas,'Courier New',monospace\">✅ <span style=\"color: #008000; text-decoration-color: #008000; font-weight: bold\">SUCCESS:</span> Prompt rendered correctly.\n",
       "</pre>\n"
      ],
      "text/plain": [
       "✅ \u001b[1;32mSUCCESS:\u001b[0m Prompt rendered correctly.\n"
      ]
     },
     "metadata": {},
     "output_type": "display_data"
    },
    {
     "data": {
      "text/html": [
       "<pre style=\"white-space:pre;overflow-x:auto;line-height:normal;font-family:Menlo,'DejaVu Sans Mono',consolas,'Courier New',monospace\">╭──────────────────────────────────────────────── Rendered Output ────────────────────────────────────────────────╮\n",
       "│ You are a helpful assistant.                                                                                    │\n",
       "│                                                                                                                 │\n",
       "│ Hello, {{ name | default(\"world\") }}!                                                                           │\n",
       "╰─────────────────────────────────────────────────────────────────────────────────────────────────────────────────╯\n",
       "</pre>\n"
      ],
      "text/plain": [
       "╭──────────────────────────────────────────────── Rendered Output ────────────────────────────────────────────────╮\n",
       "│ You are a helpful assistant.                                                                                    │\n",
       "│                                                                                                                 │\n",
       "│ Hello, {{ name | default(\"world\") }}!                                                                           │\n",
       "╰─────────────────────────────────────────────────────────────────────────────────────────────────────────────────╯\n"
      ]
     },
     "metadata": {},
     "output_type": "display_data"
    },
    {
     "data": {
      "text/html": [
       "<pre style=\"white-space:pre;overflow-x:auto;line-height:normal;font-family:Menlo,'DejaVu Sans Mono',consolas,'Courier New',monospace\">\n",
       "Testing render with <span style=\"color: #808000; text-decoration-color: #808000\">strict</span>=<span style=\"color: #ff0000; text-decoration-color: #ff0000; font-style: italic\">False</span> <span style=\"font-weight: bold\">(</span>missing variables<span style=\"font-weight: bold\">)</span><span style=\"color: #808000; text-decoration-color: #808000\">...</span>\n",
       "</pre>\n"
      ],
      "text/plain": [
       "\n",
       "Testing render with \u001b[33mstrict\u001b[0m=\u001b[3;91mFalse\u001b[0m \u001b[1m(\u001b[0mmissing variables\u001b[1m)\u001b[0m\u001b[33m...\u001b[0m\n"
      ]
     },
     "metadata": {},
     "output_type": "display_data"
    },
    {
     "data": {
      "text/html": [
       "<pre style=\"white-space:pre;overflow-x:auto;line-height:normal;font-family:Menlo,'DejaVu Sans Mono',consolas,'Courier New',monospace\">✅ <span style=\"color: #008000; text-decoration-color: #008000; font-weight: bold\">SUCCESS:</span> Non-strict rendering worked.\n",
       "</pre>\n"
      ],
      "text/plain": [
       "✅ \u001b[1;32mSUCCESS:\u001b[0m Non-strict rendering worked.\n"
      ]
     },
     "metadata": {},
     "output_type": "display_data"
    },
    {
     "data": {
      "text/html": [
       "<pre style=\"white-space:pre;overflow-x:auto;line-height:normal;font-family:Menlo,'DejaVu Sans Mono',consolas,'Courier New',monospace\">╭─────────────────────────────────── Partial Render Output (with placeholders) ───────────────────────────────────╮\n",
       "│ You are a helpful assistant.                                                                                    │\n",
       "│                                                                                                                 │\n",
       "│ Hello, {{ name | default(\"world\") }}!                                                                           │\n",
       "╰─────────────────────────────────────────────────────────────────────────────────────────────────────────────────╯\n",
       "</pre>\n"
      ],
      "text/plain": [
       "╭─────────────────────────────────── Partial Render Output (with placeholders) ───────────────────────────────────╮\n",
       "│ You are a helpful assistant.                                                                                    │\n",
       "│                                                                                                                 │\n",
       "│ Hello, {{ name | default(\"world\") }}!                                                                           │\n",
       "╰─────────────────────────────────────────────────────────────────────────────────────────────────────────────────╯\n"
      ]
     },
     "metadata": {},
     "output_type": "display_data"
    }
   ],
   "source": [
    "# Cell 3: Rendering a Prompt (Corrected)\n",
    "\n",
    "# Add the missing import for Panel at the top of the cell\n",
    "from rich.panel import Panel \n",
    "\n",
    "if 'prompt_obj' in locals() and prompt_obj:\n",
    "    print(\"\\n--- 🚀 Testing Prompt Rendering ---\")\n",
    "\n",
    "    # Test 1: Render with required variables\n",
    "    print(\"Testing render with required variables...\")\n",
    "    try:\n",
    "        # !! IMPORTANT: Change 'user_input' to a real variable in your prompt !!\n",
    "        rendered_text = prompt_obj.render(user_input=\"This is a test message to summarize.\")\n",
    "        print(\"✅ [bold green]SUCCESS:[/bold green] Prompt rendered correctly.\")\n",
    "        # This line will now work because Panel is defined\n",
    "        print(Panel(rendered_text, title=\"Rendered Output\"))\n",
    "    except Exception as e:\n",
    "        print(f\"❌ [bold red]FAILURE:[/bold red] Rendering failed: {e}\")\n",
    "\n",
    "    # Test 2: Render with non-strict mode (missing variables)\n",
    "    print(\"\\nTesting render with strict=False (missing variables)...\")\n",
    "    try:\n",
    "        # Note: We are NOT providing the 'user_input' variable here\n",
    "        partial_text = prompt_obj.render(strict=False)\n",
    "        print(\"✅ [bold green]SUCCESS:[/bold green] Non-strict rendering worked.\")\n",
    "        # This line will also now work\n",
    "        print(Panel(partial_text, title=\"Partial Render Output (with placeholders)\"))\n",
    "    except Exception as e:\n",
    "        print(f\"❌ [bold red]FAILURE:[/bold red] Non-strict rendering failed: {e}\")"
   ]
  },
  {
   "cell_type": "markdown",
   "id": "5a7b5f3c",
   "metadata": {},
   "source": [
    "---"
   ]
  },
  {
   "cell_type": "markdown",
   "id": "6a135db9",
   "metadata": {},
   "source": [
    "### **4: Integrity and Locking**\n",
    "\n",
    "This tests the security features of the SDK."
   ]
  },
  {
   "cell_type": "code",
   "execution_count": 4,
   "metadata": {},
   "outputs": [
    {
     "data": {
      "text/html": [
       "<pre style=\"white-space:pre;overflow-x:auto;line-height:normal;font-family:Menlo,'DejaVu Sans Mono',consolas,'Courier New',monospace\">\n",
       "--- 🚀 Testing Integrity and Locking ---\n",
       "</pre>\n"
      ],
      "text/plain": [
       "\n",
       "--- 🚀 Testing Integrity and Locking ---\n"
      ]
     },
     "metadata": {},
     "output_type": "display_data"
    },
    {
     "data": {
      "text/html": [
       "<pre style=\"white-space:pre;overflow-x:auto;line-height:normal;font-family:Menlo,'DejaVu Sans Mono',consolas,'Courier New',monospace\">Initial verification status: <span style=\"color: #00ff00; text-decoration-color: #00ff00; font-style: italic\">True</span>, UNLOCKED\n",
       "</pre>\n"
      ],
      "text/plain": [
       "Initial verification status: \u001b[3;92mTrue\u001b[0m, UNLOCKED\n"
      ]
     },
     "metadata": {},
     "output_type": "display_data"
    },
    {
     "data": {
      "text/html": [
       "<pre style=\"white-space:pre;overflow-x:auto;line-height:normal;font-family:Menlo,'DejaVu Sans Mono',consolas,'Courier New',monospace\">\n",
       "Locking the prompt<span style=\"color: #808000; text-decoration-color: #808000\">...</span>\n",
       "</pre>\n"
      ],
      "text/plain": [
       "\n",
       "Locking the prompt\u001b[33m...\u001b[0m\n"
      ]
     },
     "metadata": {},
     "output_type": "display_data"
    },
    {
     "data": {
      "text/html": [
       "<pre style=\"white-space:pre;overflow-x:auto;line-height:normal;font-family:Menlo,'DejaVu Sans Mono',consolas,'Courier New',monospace\">✅ <span style=\"color: #008000; text-decoration-color: #008000; font-weight: bold\">SUCCESS:</span> `<span style=\"color: #800080; text-decoration-color: #800080; font-weight: bold\">lock</span><span style=\"font-weight: bold\">()</span>` method executed.\n",
       "</pre>\n"
      ],
      "text/plain": [
       "✅ \u001b[1;32mSUCCESS:\u001b[0m `\u001b[1;35mlock\u001b[0m\u001b[1m(\u001b[0m\u001b[1m)\u001b[0m` method executed.\n"
      ]
     },
     "metadata": {},
     "output_type": "display_data"
    },
    {
     "data": {
      "text/html": [
       "<pre style=\"white-space:pre;overflow-x:auto;line-height:normal;font-family:Menlo,'DejaVu Sans Mono',consolas,'Courier New',monospace\">Verification status after locking: <span style=\"color: #00ff00; text-decoration-color: #00ff00; font-style: italic\">True</span>, OK\n",
       "</pre>\n"
      ],
      "text/plain": [
       "Verification status after locking: \u001b[3;92mTrue\u001b[0m, OK\n"
      ]
     },
     "metadata": {},
     "output_type": "display_data"
    },
    {
     "data": {
      "text/html": [
       "<pre style=\"white-space:pre;overflow-x:auto;line-height:normal;font-family:Menlo,'DejaVu Sans Mono',consolas,'Courier New',monospace\">\n",
       "Unlocking the prompt<span style=\"color: #808000; text-decoration-color: #808000\">...</span>\n",
       "</pre>\n"
      ],
      "text/plain": [
       "\n",
       "Unlocking the prompt\u001b[33m...\u001b[0m\n"
      ]
     },
     "metadata": {},
     "output_type": "display_data"
    },
    {
     "data": {
      "text/html": [
       "<pre style=\"white-space:pre;overflow-x:auto;line-height:normal;font-family:Menlo,'DejaVu Sans Mono',consolas,'Courier New',monospace\">✅ <span style=\"color: #008000; text-decoration-color: #008000; font-weight: bold\">SUCCESS:</span> `<span style=\"color: #800080; text-decoration-color: #800080; font-weight: bold\">unlock</span><span style=\"font-weight: bold\">()</span>` method executed.\n",
       "</pre>\n"
      ],
      "text/plain": [
       "✅ \u001b[1;32mSUCCESS:\u001b[0m `\u001b[1;35munlock\u001b[0m\u001b[1m(\u001b[0m\u001b[1m)\u001b[0m` method executed.\n"
      ]
     },
     "metadata": {},
     "output_type": "display_data"
    },
    {
     "data": {
      "text/html": [
       "<pre style=\"white-space:pre;overflow-x:auto;line-height:normal;font-family:Menlo,'DejaVu Sans Mono',consolas,'Courier New',monospace\">Verification status after unlocking: <span style=\"color: #00ff00; text-decoration-color: #00ff00; font-style: italic\">True</span>, UNLOCKED\n",
       "</pre>\n"
      ],
      "text/plain": [
       "Verification status after unlocking: \u001b[3;92mTrue\u001b[0m, UNLOCKED\n"
      ]
     },
     "metadata": {},
     "output_type": "display_data"
    }
   ],
   "source": [
    "# Cell 4: Integrity and Locking\n",
    "\n",
    "if 'prompt_obj' in locals() and prompt_obj:\n",
    "    print(\"\\n--- 🚀 Testing Integrity and Locking ---\")\n",
    "\n",
    "    # Step 1: Verify the initial status\n",
    "    is_secure, status = prompt_obj.verify()\n",
    "    print(f\"Initial verification status: {is_secure}, {status}\")\n",
    "    \n",
    "    # Step 2: Lock the prompt\n",
    "    print(\"\\nLocking the prompt...\")\n",
    "    prompt_obj.lock()\n",
    "    print(\"✅ [bold green]SUCCESS:[/bold green] `lock()` method executed.\")\n",
    "\n",
    "    # Step 3: Verify again, should now be 'OK'\n",
    "    is_secure, status = prompt_obj.verify()\n",
    "    print(f\"Verification status after locking: {is_secure}, {status}\")\n",
    "    \n",
    "    # Step 4: Unlock the prompt\n",
    "    print(\"\\nUnlocking the prompt...\")\n",
    "    prompt_obj.unlock()\n",
    "    print(\"✅ [bold green]SUCCESS:[/bold green] `unlock()` method executed.\")\n",
    "\n",
    "    # Step 5: Verify one last time, should be 'UNLOCKED'\n",
    "    is_secure, status = prompt_obj.verify()\n",
    "    print(f\"Verification status after unlocking: {is_secure}, {status}\")"
   ]
  },
  {
   "cell_type": "markdown",
   "id": "bb5687e5",
   "metadata": {},
   "source": [
    "---"
   ]
  },
  {
   "cell_type": "markdown",
   "id": "7d871559",
   "metadata": {},
   "source": [
    "### **5: Creating and Versioning Prompts**\n",
    "\n",
    "This tests the file-writing capabilities of the SDK."
   ]
  },
  {
   "cell_type": "code",
   "execution_count": 5,
   "id": "8aa0c19c",
   "metadata": {},
   "outputs": [
    {
     "data": {
      "text/html": [
       "<pre style=\"white-space:pre;overflow-x:auto;line-height:normal;font-family:Menlo,'DejaVu Sans Mono',consolas,'Courier New',monospace\">\n",
       "--- 🚀 Testing Prompt Creation and Versioning ---\n",
       "</pre>\n"
      ],
      "text/plain": [
       "\n",
       "--- 🚀 Testing Prompt Creation and Versioning ---\n"
      ]
     },
     "metadata": {},
     "output_type": "display_data"
    },
    {
     "data": {
      "text/html": [
       "<pre style=\"white-space:pre;overflow-x:auto;line-height:normal;font-family:Menlo,'DejaVu Sans Mono',consolas,'Courier New',monospace\">Checking for prompt: <span style=\"color: #008000; text-decoration-color: #008000\">'gibo'</span><span style=\"color: #808000; text-decoration-color: #808000\">...</span>\n",
       "</pre>\n"
      ],
      "text/plain": [
       "Checking for prompt: \u001b[32m'gibo'\u001b[0m\u001b[33m...\u001b[0m\n"
      ]
     },
     "metadata": {},
     "output_type": "display_data"
    },
    {
     "data": {
      "text/html": [
       "<pre style=\"white-space:pre;overflow-x:auto;line-height:normal;font-family:Menlo,'DejaVu Sans Mono',consolas,'Courier New',monospace\">Prompt not found. Creating <span style=\"color: #008000; text-decoration-color: #008000\">'gibo.v1.0.0.yml'</span><span style=\"color: #808000; text-decoration-color: #808000\">...</span>\n",
       "</pre>\n"
      ],
      "text/plain": [
       "Prompt not found. Creating \u001b[32m'gibo.v1.0.0.yml'\u001b[0m\u001b[33m...\u001b[0m\n"
      ]
     },
     "metadata": {},
     "output_type": "display_data"
    },
    {
     "data": {
      "text/html": [
       "<pre style=\"white-space:pre;overflow-x:auto;line-height:normal;font-family:Menlo,'DejaVu Sans Mono',consolas,'Courier New',monospace\">✅ <span style=\"color: #008000; text-decoration-color: #008000; font-weight: bold\">SUCCESS:</span> Created new prompt.\n",
       "</pre>\n"
      ],
      "text/plain": [
       "✅ \u001b[1;32mSUCCESS:\u001b[0m Created new prompt.\n"
      ]
     },
     "metadata": {},
     "output_type": "display_data"
    },
    {
     "data": {
      "text/html": [
       "<pre style=\"white-space:pre;overflow-x:auto;line-height:normal;font-family:Menlo,'DejaVu Sans Mono',consolas,'Courier New',monospace\">\n",
       "Attempting to create a <span style=\"color: #008000; text-decoration-color: #008000\">'patch'</span> version of the test prompt<span style=\"color: #808000; text-decoration-color: #808000\">...</span>\n",
       "</pre>\n"
      ],
      "text/plain": [
       "\n",
       "Attempting to create a \u001b[32m'patch'\u001b[0m version of the test prompt\u001b[33m...\u001b[0m\n"
      ]
     },
     "metadata": {},
     "output_type": "display_data"
    },
    {
     "data": {
      "text/html": [
       "<pre style=\"white-space:pre;overflow-x:auto;line-height:normal;font-family:Menlo,'DejaVu Sans Mono',consolas,'Courier New',monospace\">✅ <span style=\"color: #008000; text-decoration-color: #008000; font-weight: bold\">SUCCESS:</span> Created new version at: <span style=\"color: #008080; text-decoration-color: #008080\">prompts\\gibo.v1.</span><span style=\"color: #008080; text-decoration-color: #008080; font-weight: bold\">0.1</span><span style=\"color: #008080; text-decoration-color: #008080\">.yml</span>\n",
       "</pre>\n"
      ],
      "text/plain": [
       "✅ \u001b[1;32mSUCCESS:\u001b[0m Created new version at: \u001b[36mprompts\\gibo.v1.\u001b[0m\u001b[1;36m0.1\u001b[0m\u001b[36m.yml\u001b[0m\n"
      ]
     },
     "metadata": {},
     "output_type": "display_data"
    },
    {
     "data": {
      "text/html": [
       "<pre style=\"white-space:pre;overflow-x:auto;line-height:normal;font-family:Menlo,'DejaVu Sans Mono',consolas,'Courier New',monospace\">   Old version: <span style=\"color: #008080; text-decoration-color: #008080; font-weight: bold\">1.0</span>.<span style=\"color: #008080; text-decoration-color: #008080; font-weight: bold\">0</span> -&gt; New version: <span style=\"color: #008080; text-decoration-color: #008080; font-weight: bold\">1.0</span>.<span style=\"color: #008080; text-decoration-color: #008080; font-weight: bold\">1</span>\n",
       "</pre>\n"
      ],
      "text/plain": [
       "   Old version: \u001b[1;36m1.0\u001b[0m.\u001b[1;36m0\u001b[0m -> New version: \u001b[1;36m1.0\u001b[0m.\u001b[1;36m1\u001b[0m\n"
      ]
     },
     "metadata": {},
     "output_type": "display_data"
    }
   ],
   "source": [
    "# Cell 5: Creating and Versioning Prompts (Improved for Re-running)\n",
    "\n",
    "if 'project' in locals():\n",
    "    print(\"\\n--- 🚀 Testing Prompt Creation and Versioning ---\")\n",
    "    \n",
    "    TEST_PROMPT_NAME = \"gibo\"\n",
    "    \n",
    "    # Step 1: Try to get the prompt. If it doesn't exist, create it.\n",
    "    print(f\"Checking for prompt: '{TEST_PROMPT_NAME}'...\")\n",
    "    test_prompt = project.get_prompt(TEST_PROMPT_NAME)\n",
    "    \n",
    "    if not test_prompt:\n",
    "        print(f\"Prompt not found. Creating '{TEST_PROMPT_NAME}.v1.0.0.yml'...\")\n",
    "        # try:\n",
    "        test_prompt = project.create_prompt(\n",
    "            name=TEST_PROMPT_NAME,\n",
    "            description=\"A prompt created by the SDK test.\",\n",
    "            tags=[\"testing\", \"sdk\"]\n",
    "        )\n",
    "        print(f\"✅ [bold green]SUCCESS:[/bold green] Created new prompt.\")\n",
    "        # except Exception as e:\n",
    "        #     print(f\"❌ [bold red]FAILURE:[/bold red] Could not create initial prompt: {e}\")\n",
    "        #     test_prompt = None # Ensure it's None on failure\n",
    "    else:\n",
    "        print(f\"✅ [bold green]SUCCESS:[/bold green] Found existing prompt to test with (Version: {test_prompt.version}).\")\n",
    "        \n",
    "    # Step 2: Now that we have a prompt object, test versioning on it.\n",
    "    if test_prompt:\n",
    "        print(\"\\nAttempting to create a 'patch' version of the test prompt...\")\n",
    "        try:\n",
    "            # The new_version method will correctly bump the version number.\n",
    "            v_next_prompt = test_prompt.new_version(bump_type=\"patch\")\n",
    "            print(f\"✅ [bold green]SUCCESS:[/bold green] Created new version at: [cyan]{v_next_prompt.path.relative_to(project.root)}[/cyan]\")\n",
    "            print(f\"   Old version: {test_prompt.version} -> New version: {v_next_prompt.version}\")\n",
    "        except FileExistsError as e:\n",
    "            print(f\"🟡 [yellow]WARNING:[/yellow] {e}. This is normal if you have already created this specific bumped version.\")\n",
    "        except Exception as e:\n",
    "            print(f\"❌ [bold red]FAILURE:[/bold red] An error occurred during versioning: {e}\")"
   ]
  },
  {
   "cell_type": "markdown",
   "id": "90118969",
   "metadata": {},
   "source": [
    "---"
   ]
  },
  {
   "cell_type": "code",
   "execution_count": 6,
   "id": "d1eb29fc",
   "metadata": {},
   "outputs": [
    {
     "data": {
      "text/plain": [
       "{'YAML Structure & Parsing': {'errors': [], 'warnings': []},\n",
       " 'Schema: Required Keys': {'errors': [], 'warnings': []},\n",
       " 'Schema: Data Types': {'errors': [], 'warnings': []},\n",
       " 'Schema: Value Formats': {'errors': [], 'warnings': []},\n",
       " 'Template: Jinja2 Syntax': {'errors': [], 'warnings': []},\n",
       " 'Best Practices & Logic': {'errors': [],\n",
       "  'warnings': [('prompts\\\\message-summarizer.v1.0.0.yml',\n",
       "    \"Default input 'name' is defined but not used in the template.\")]}}"
      ]
     },
     "execution_count": 6,
     "metadata": {},
     "output_type": "execute_result"
    }
   ],
   "source": [
    "project.lint()"
   ]
  },
  {
   "cell_type": "code",
   "execution_count": null,
   "id": "f0b40f7b",
   "metadata": {},
   "outputs": [],
   "source": []
  }
 ],
 "metadata": {
  "kernelspec": {
   "display_name": "prompt-lockbox-py3.10",
   "language": "python",
   "name": "python3"
  },
  "language_info": {
   "codemirror_mode": {
    "name": "ipython",
    "version": 3
   },
   "file_extension": ".py",
   "mimetype": "text/x-python",
   "name": "python",
   "nbconvert_exporter": "python",
   "pygments_lexer": "ipython3",
   "version": "3.10.11"
  }
 },
 "nbformat": 4,
 "nbformat_minor": 5
}
